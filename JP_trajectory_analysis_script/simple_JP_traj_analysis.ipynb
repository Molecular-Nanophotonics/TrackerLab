{
 "cells": [
  {
   "cell_type": "code",
   "execution_count": 1,
   "metadata": {},
   "outputs": [],
   "source": [
    "# get packages\n",
    "from scipy.optimize import curve_fit\n",
    "import scipy\n",
    "import numpy as np\n",
    "import matplotlib.pyplot as plt\n",
    "\n",
    "\n",
    "#plt.rcParams['xtick.labelsize'] = 20\n",
    "from nptdms import TdmsFile\n",
    "#import cv2\n",
    "from PIL import Image\n",
    "import fnmatch\n",
    "import os, sys\n",
    "import trackpy as tp\n",
    "from copy import deepcopy\n",
    "from IPython.display import clear_output\n",
    "from ipywidgets import interact\n",
    "from nptdms import TdmsFile # this library contains the actual TDMS loading parts\n",
    "import pandas as pd\n",
    "from scipy import stats\n",
    "import copy\n",
    "import glob\n",
    "import matplotlib"
   ]
  },
  {
   "cell_type": "code",
   "execution_count": 2,
   "metadata": {},
   "outputs": [],
   "source": [
    "fdir = 'E:/' # set the \"Select Files...\" dialog start directory to the notebook directory\n",
    "def openFilesDialog(fdir):\n",
    "    from PyQt5.QtWidgets import QApplication,QFileDialog\n",
    "    app = QApplication([dir])\n",
    "    files = QFileDialog.getOpenFileNames(None, \"Select Files...\", fdir, filter='HDF5 Files (*.h5);;All Files (*)')\n",
    "    return files[0]"
   ]
  },
  {
   "cell_type": "code",
   "execution_count": 90,
   "metadata": {},
   "outputs": [],
   "source": [
    "## load data\n",
    "dataset = '13JP_Interaction_BOX_expo40ms_'"
   ]
  },
  {
   "cell_type": "code",
   "execution_count": 98,
   "metadata": {},
   "outputs": [
    {
     "name": "stdout",
     "output_type": "stream",
     "text": [
      "13JP_Interaction_BOX_expo40ms_1147_spots.h5\n",
      "13JP_Interaction_BOX_expo40ms_1148_spots.h5\n"
     ]
    }
   ],
   "source": [
    "#look for files with name\n",
    "file_list = []\n",
    "for file in glob.glob(dataset + '*_spots.h5'):\n",
    "    print(file)\n",
    "    file_list.append(file)"
   ]
  },
  {
   "cell_type": "code",
   "execution_count": 6,
   "metadata": {},
   "outputs": [],
   "source": [
    "files = openFilesDialog(fdir)\n",
    "fdir = os.path.dirname(files[0]) # set the dialog start directory to the selected directory"
   ]
  },
  {
   "cell_type": "code",
   "execution_count": 7,
   "metadata": {},
   "outputs": [
    {
     "data": {
      "text/plain": [
       "['E:/JP_Test_Data/10_JP_PS_1mu_WF_170mW_first_test_001_spots.h5']"
      ]
     },
     "execution_count": 7,
     "metadata": {},
     "output_type": "execute_result"
    }
   ],
   "source": [
    "files"
   ]
  },
  {
   "cell_type": "markdown",
   "metadata": {},
   "source": [
    "### get the meta data from Trackerlab"
   ]
  },
  {
   "cell_type": "code",
   "execution_count": 8,
   "metadata": {},
   "outputs": [
    {
     "data": {
      "text/html": [
       "<div>\n",
       "<style>\n",
       "    .dataframe thead tr:only-child th {\n",
       "        text-align: right;\n",
       "    }\n",
       "\n",
       "    .dataframe thead th {\n",
       "        text-align: left;\n",
       "    }\n",
       "\n",
       "    .dataframe tbody tr th {\n",
       "        vertical-align: top;\n",
       "    }\n",
       "</style>\n",
       "<table border=\"1\" class=\"dataframe\">\n",
       "  <thead>\n",
       "    <tr style=\"text-align: right;\">\n",
       "      <th></th>\n",
       "      <th>binning</th>\n",
       "      <th>dimx</th>\n",
       "      <th>dimy</th>\n",
       "      <th>exposure</th>\n",
       "      <th>frames</th>\n",
       "      <th>t_method</th>\n",
       "      <th>t_threshold</th>\n",
       "      <th>t_area_min</th>\n",
       "      <th>t_area_max</th>\n",
       "    </tr>\n",
       "  </thead>\n",
       "  <tbody>\n",
       "    <tr>\n",
       "      <th>0</th>\n",
       "      <td>1</td>\n",
       "      <td>512</td>\n",
       "      <td>512</td>\n",
       "      <td>0.03</td>\n",
       "      <td>400</td>\n",
       "      <td>JP tracker multiple THs</td>\n",
       "      <td>2000</td>\n",
       "      <td>20</td>\n",
       "      <td>500</td>\n",
       "    </tr>\n",
       "  </tbody>\n",
       "</table>\n",
       "</div>"
      ],
      "text/plain": [
       "   binning  dimx  dimy  exposure  frames                 t_method  \\\n",
       "0        1   512   512      0.03     400  JP tracker multiple THs   \n",
       "\n",
       "   t_threshold  t_area_min  t_area_max  \n",
       "0         2000          20         500  "
      ]
     },
     "execution_count": 8,
     "metadata": {},
     "output_type": "execute_result"
    }
   ],
   "source": [
    "#get metadata of a specified file\n",
    "with pd.HDFStore(files[0]) as store:\n",
    "    metadata = store['metadata']#.to_dict('records')[0]\n",
    "    store.close()\n",
    "    \n",
    "metadata"
   ]
  },
  {
   "cell_type": "code",
   "execution_count": 9,
   "metadata": {},
   "outputs": [],
   "source": [
    "exposure_time = float(metadata.exposure)\n",
    "dimx = int(metadata.dimx)"
   ]
  },
  {
   "cell_type": "code",
   "execution_count": 10,
   "metadata": {},
   "outputs": [],
   "source": [
    "pxl_mu = 1\n",
    "pxl_mu = 1"
   ]
  },
  {
   "cell_type": "code",
   "execution_count": 12,
   "metadata": {},
   "outputs": [],
   "source": [
    "df = pd.DataFrame()\n",
    "spots = pd.DataFrame()\n",
    "for i, file in enumerate(files):\n",
    "    with pd.HDFStore(file) as store:\n",
    "        spots = store['spots']\n",
    "        store.close()\n",
    "    if i == 0:   \n",
    "        f = spots\n",
    "    else:\n",
    "        spots['frame'] += f['frame'].max() + 50  # this is used to discriminate the different tdms seqences\n",
    "        f = f.append(spots)"
   ]
  },
  {
   "cell_type": "code",
   "execution_count": 13,
   "metadata": {},
   "outputs": [
    {
     "data": {
      "text/plain": [
       "4159"
      ]
     },
     "execution_count": 13,
     "metadata": {},
     "output_type": "execute_result"
    }
   ],
   "source": [
    "len(f.frame)"
   ]
  },
  {
   "cell_type": "code",
   "execution_count": 14,
   "metadata": {},
   "outputs": [
    {
     "data": {
      "text/plain": [
       "399"
      ]
     },
     "execution_count": 14,
     "metadata": {},
     "output_type": "execute_result"
    }
   ],
   "source": [
    "np.max(f.frame)"
   ]
  },
  {
   "cell_type": "code",
   "execution_count": 15,
   "metadata": {},
   "outputs": [
    {
     "data": {
      "text/html": [
       "<div>\n",
       "<style>\n",
       "    .dataframe thead tr:only-child th {\n",
       "        text-align: right;\n",
       "    }\n",
       "\n",
       "    .dataframe thead th {\n",
       "        text-align: left;\n",
       "    }\n",
       "\n",
       "    .dataframe tbody tr th {\n",
       "        vertical-align: top;\n",
       "    }\n",
       "</style>\n",
       "<table border=\"1\" class=\"dataframe\">\n",
       "  <thead>\n",
       "    <tr style=\"text-align: right;\">\n",
       "      <th></th>\n",
       "      <th>area</th>\n",
       "      <th>bbox</th>\n",
       "      <th>eccentricity</th>\n",
       "      <th>frame</th>\n",
       "      <th>major_axis_length</th>\n",
       "      <th>max_intensity</th>\n",
       "      <th>minor_axis_length</th>\n",
       "      <th>orientation</th>\n",
       "      <th>phi</th>\n",
       "      <th>x</th>\n",
       "      <th>y</th>\n",
       "    </tr>\n",
       "  </thead>\n",
       "  <tbody>\n",
       "    <tr>\n",
       "      <th>0</th>\n",
       "      <td>77</td>\n",
       "      <td>(83, 160, 94, 171)</td>\n",
       "      <td>0.734116</td>\n",
       "      <td>0</td>\n",
       "      <td>12.588879</td>\n",
       "      <td>8742</td>\n",
       "      <td>8.548147</td>\n",
       "      <td>-0.585276</td>\n",
       "      <td>-0.584532</td>\n",
       "      <td>164.779221</td>\n",
       "      <td>88.545455</td>\n",
       "    </tr>\n",
       "    <tr>\n",
       "      <th>0</th>\n",
       "      <td>152</td>\n",
       "      <td>(146, 154, 160, 167)</td>\n",
       "      <td>0.396242</td>\n",
       "      <td>0</td>\n",
       "      <td>14.505620</td>\n",
       "      <td>13696</td>\n",
       "      <td>13.318276</td>\n",
       "      <td>1.445216</td>\n",
       "      <td>1.288018</td>\n",
       "      <td>160.000000</td>\n",
       "      <td>152.500000</td>\n",
       "    </tr>\n",
       "    <tr>\n",
       "      <th>0</th>\n",
       "      <td>132</td>\n",
       "      <td>(168, 373, 181, 386)</td>\n",
       "      <td>0.212028</td>\n",
       "      <td>0</td>\n",
       "      <td>13.108564</td>\n",
       "      <td>13055</td>\n",
       "      <td>12.810524</td>\n",
       "      <td>-1.470269</td>\n",
       "      <td>0.131685</td>\n",
       "      <td>378.636364</td>\n",
       "      <td>174.007576</td>\n",
       "    </tr>\n",
       "    <tr>\n",
       "      <th>0</th>\n",
       "      <td>101</td>\n",
       "      <td>(221, 231, 233, 242)</td>\n",
       "      <td>0.484934</td>\n",
       "      <td>0</td>\n",
       "      <td>12.276974</td>\n",
       "      <td>8658</td>\n",
       "      <td>10.736836</td>\n",
       "      <td>-1.467985</td>\n",
       "      <td>1.495552</td>\n",
       "      <td>236.138614</td>\n",
       "      <td>226.297030</td>\n",
       "    </tr>\n",
       "    <tr>\n",
       "      <th>0</th>\n",
       "      <td>68</td>\n",
       "      <td>(278, 370, 289, 380)</td>\n",
       "      <td>0.721087</td>\n",
       "      <td>0</td>\n",
       "      <td>12.575079</td>\n",
       "      <td>5260</td>\n",
       "      <td>8.712573</td>\n",
       "      <td>-0.971822</td>\n",
       "      <td>2.125857</td>\n",
       "      <td>375.220588</td>\n",
       "      <td>282.485294</td>\n",
       "    </tr>\n",
       "  </tbody>\n",
       "</table>\n",
       "</div>"
      ],
      "text/plain": [
       "   area                  bbox  eccentricity  frame  major_axis_length  \\\n",
       "0    77    (83, 160, 94, 171)      0.734116      0          12.588879   \n",
       "0   152  (146, 154, 160, 167)      0.396242      0          14.505620   \n",
       "0   132  (168, 373, 181, 386)      0.212028      0          13.108564   \n",
       "0   101  (221, 231, 233, 242)      0.484934      0          12.276974   \n",
       "0    68  (278, 370, 289, 380)      0.721087      0          12.575079   \n",
       "\n",
       "   max_intensity  minor_axis_length  orientation       phi           x  \\\n",
       "0           8742           8.548147    -0.585276 -0.584532  164.779221   \n",
       "0          13696          13.318276     1.445216  1.288018  160.000000   \n",
       "0          13055          12.810524    -1.470269  0.131685  378.636364   \n",
       "0           8658          10.736836    -1.467985  1.495552  236.138614   \n",
       "0           5260           8.712573    -0.971822  2.125857  375.220588   \n",
       "\n",
       "            y  \n",
       "0   88.545455  \n",
       "0  152.500000  \n",
       "0  174.007576  \n",
       "0  226.297030  \n",
       "0  282.485294  "
      ]
     },
     "execution_count": 15,
     "metadata": {},
     "output_type": "execute_result"
    }
   ],
   "source": [
    "f.head()"
   ]
  },
  {
   "cell_type": "markdown",
   "metadata": {},
   "source": [
    "### a data filtering example"
   ]
  },
  {
   "cell_type": "code",
   "execution_count": 16,
   "metadata": {},
   "outputs": [],
   "source": [
    "boundary_buffer = 20 # in pxl\n",
    "f_filtered = f[(f.x> boundary_buffer) & (f.y > boundary_buffer) & (f.x< (dimx-boundary_buffer)) & (f.y <(dimx-boundary_buffer))]\n",
    "f_filtered = f[np.sqrt((f.x-dimx/2)**2+(f.y-dimx/2)**2) < 90] # only look at circular region in the center of the image (active region)\n",
    "\n"
   ]
  },
  {
   "cell_type": "code",
   "execution_count": 17,
   "metadata": {},
   "outputs": [
    {
     "name": "stdout",
     "output_type": "stream",
     "text": [
      "Frame 399: 4 trajectories present\n"
     ]
    }
   ],
   "source": [
    "## link the trajectory\n",
    "t1 = tp.link_df(f_filtered,5,memory = 3);"
   ]
  },
  {
   "cell_type": "code",
   "execution_count": 18,
   "metadata": {},
   "outputs": [],
   "source": [
    "t1.to_csv('t1.csv')"
   ]
  },
  {
   "cell_type": "code",
   "execution_count": 19,
   "metadata": {},
   "outputs": [],
   "source": [
    "t1 = pd.read_csv('t1.csv')"
   ]
  },
  {
   "cell_type": "code",
   "execution_count": 20,
   "metadata": {},
   "outputs": [],
   "source": [
    "t1_filtered = t1"
   ]
  },
  {
   "cell_type": "code",
   "execution_count": 21,
   "metadata": {},
   "outputs": [
    {
     "data": {
      "image/png": "[encoded data removed]",
      "text/plain": [
       "<matplotlib.figure.Figure at 0xf26ae10>"
      ]
     },
     "metadata": {},
     "output_type": "display_data"
    },
    {
     "data": {
      "text/plain": [
       "<matplotlib.axes._subplots.AxesSubplot at 0xf26ab00>"
      ]
     },
     "execution_count": 21,
     "metadata": {},
     "output_type": "execute_result"
    }
   ],
   "source": [
    "plt.figure()\n",
    "tp.plot_traj(t1)\n",
    "\n"
   ]
  },
  {
   "cell_type": "markdown",
   "metadata": {},
   "source": [
    "### plot phi distribution"
   ]
  },
  {
   "cell_type": "code",
   "execution_count": 126,
   "metadata": {},
   "outputs": [
    {
     "name": "stderr",
     "output_type": "stream",
     "text": [
      "/Users/Nic/anaconda3/lib/python3.6/site-packages/matplotlib/axes/_axes.py:6462: UserWarning: The 'normed' kwarg is deprecated, and has been replaced by the 'density' kwarg.\n",
      "  warnings.warn(\"The 'normed' kwarg is deprecated, and has been \"\n"
     ]
    },
    {
     "data": {
      "image/png": "[encoded data removed]",
      "text/plain": [
       "<Figure size 360x360 with 1 Axes>"
      ]
     },
     "metadata": {},
     "output_type": "display_data"
    }
   ],
   "source": [
    "def Plot_phi_hist(t):\n",
    "    fig, ax = plt.subplots(1, 1,figsize=(5,5))\n",
    "    ax.hist(t.phi,bins = 50, normed = False)\n",
    "    ax.set_xlabel('${\\phi}$ [rad]')\n",
    "    ax.set_ylabel('n')\n",
    "    plt.show()\n",
    "    return \n",
    "Plot_phi_hist(t1)"
   ]
  },
  {
   "cell_type": "markdown",
   "metadata": {},
   "source": [
    "## below are some motion analysis scripts"
   ]
  },
  {
   "cell_type": "code",
   "execution_count": 77,
   "metadata": {},
   "outputs": [],
   "source": [
    "def Make_Plot_dr(ax,dt = 1):\n",
    "    #t1.set_index(['master_index'],drop = False,inplace = True)\n",
    "    #t1_filtered = t1[(np.isfinite(np.array(t1['dy'])))\n",
    "    #                ];\n",
    "    #t1_filtered = t1[(np.isfinite(np.array(t1['dx'])))\n",
    "    #                 & (np.sqrt(np.array(t1['x']-255)**2 + np.array(t1['y']-255)**2) < 400)\n",
    "    #                ];\n",
    "    #print(np.sum(np.isfinite(np.array(t1_filtered[quantity]))))\n",
    "    #data = np.array(t1_filtered['dy'])\n",
    "    \n",
    "    dx_list = np.zeros(len(t1_filtered['x']))\n",
    "    dy_list = np.zeros(len(t1_filtered['x']))\n",
    "    dr_list = np.zeros(len(t1_filtered['x']))\n",
    "    #N = 0\n",
    "    #dt =1\n",
    "    n = 0\n",
    "    for  pid, ptraj in t1_filtered.groupby('particle'):\n",
    "        if len(ptraj.x)>dt:\n",
    "            x_data = (np.array(ptraj.x))\n",
    "            y_data = (np.array(ptraj.y))\n",
    "            dx = (x_data[dt:]-x_data[:-dt])\n",
    "            dy = (y_data[dt:]-y_data[:-dt])\n",
    "            dx_list[n:n+len(dx)] = dx\n",
    "            dy_list[n:n+len(dx)] = dy\n",
    "            dr_list[n:n+len(dx)] = np.sqrt(dx**2+dy**2)\n",
    "            n += len(dx)\n",
    "    data = dr_list[dr_list!=0]\n",
    "    N = len(data)\n",
    "    n_bins = 150\n",
    "    hist, bin_edges = np.histogram(data, density=True,bins = n_bins)\n",
    "    bin_centres = (bin_edges[:-1] + bin_edges[1:])/2\n",
    "                    \n",
    "    # Define model function to be used to fit to the data above:\n",
    "    def gauss(x, *p):\n",
    "        A, mu, sigma = p\n",
    "        A, mu, D = p\n",
    "        #return A*np.exp(-(x-mu)**2/(2.*sigma**2))\n",
    "        return A/np.sqrt(np.pi*4*D*dt*exposure_time*nth)*np.exp(-(x-mu)**2/(4*D*dt*exposure_time*nth))\n",
    "    # p0 is the initial guess for the fitting coefficients (A, mu and sigma above)\n",
    "    \n",
    "    def rayleigh(x,*p):\n",
    "        A, D = p\n",
    "        return 2*x/(4*D*dt*exposure_time*nth)*np.exp(-x**2/(4*D*dt*exposure_time*nth))\n",
    "    \n",
    "    def dphi_dist2(phi,*p):\n",
    "        A, sigma  = p\n",
    "        #A = 1                                      \n",
    "        #sigma = 0.1\n",
    "        N = 20\n",
    "        theta_range = np.linspace(1,N,N)/(N+1)*np.pi\n",
    "        dtheta = 2*np.pi/(N+1)\n",
    "        value = 0\n",
    "        mirror_list = [-1,0,1]\n",
    "        for theta in theta_range:\n",
    "            for i in mirror_list: # this is for large delta ts, dont know if thi is ok, but you know who cares... (no rly i think its ok)\n",
    "                value += 1/4/np.sqrt(2*np.pi*sigma**2) * np.sin(theta)**2* np.exp(-(phi+i*2*np.pi)**2*np.sin(theta)**2 / (2.*sigma**2))*dtheta\n",
    "            ## the 1/4 should be 1/2 theoretically but it turns out htat the normalisaiton demands 1/4...\n",
    "        return A * value\n",
    "    p1 = [1,1]\n",
    "    \n",
    "    p0 = [0., 0.1, 1.]\n",
    "    coeff, var_matrix = curve_fit(gauss, bin_centres, hist, p0=p0)\n",
    "    #coeff2, var_matrix = curve_fit(dphi_dist2, bin_centres, hist, p0=p1)\n",
    "    coeff3, var_matrix3 = curve_fit(rayleigh, bin_centres, hist, p0=p1)\n",
    "    D_rayl = coeff3[1]\n",
    "    mean = coeff[1]  # write the mean innto the matrix\n",
    "    D = np.abs(coeff[2])\n",
    "    uncert = np.abs(var_matrix[1,1])\n",
    "    #mean2 = np.mean(data)\n",
    "    #uncert2 = np.std(data)/np.sqrt(N)* stats.t.ppf(0.95,N)\n",
    "\n",
    "    hist_fit = gauss(bin_centres, *coeff)\n",
    "    hist_fit_rayl = rayleigh(bin_centres, *coeff3)\n",
    "    #hist_fit2 = dphi_dist2(bin_centres,*coeff2)\n",
    "    \n",
    "    bin_size = bin_edges[1]-bin_edges[0]\n",
    "    bin_edges_mid = np.array(bin_edges)+bin_size/2\n",
    "    bin_edges_mid = list(bin_edges_mid)\n",
    "    bin_edges_mid.pop()\n",
    "    #ax.scatter(bin_edges_mid, hist)\n",
    "    ax.semilogy(np.array(bin_edges_mid)*pxl_mu, hist,color = 'black')\n",
    "    ax.semilogy(bin_centres*pxl_mu, hist_fit_rayl, label='$\\mathrm{Rayleigh\\;fit}$', color = 'red')\n",
    "    #plt.xlim(np.min(data),np.max(data))\n",
    "    ax.set_ylim(ymin=10**-4)\n",
    "    ax.legend(fontsize=12)\n",
    "    ax.set_title('$dr$'+ ' hist')\n",
    "    ax.text(0.53, 0.8,#' $\\sigma$ =' + str(format(std*pxl_mu, '.3g'))+ ' $\\mu m$  ;  '  \n",
    "            #+ '$D_t$ =  '+str(format(std**2/2/exposure_time*pxl_mu**2/nth/dt, '.2g')) + ' $\\mu m^2/s$'  ,\n",
    "             '$D_t =$  '+str(format(D_rayl*pxl_mu**2, '.3g')) + ' $\\mu m^2/s$' \n",
    "            + '\\n' + '$dt = $ '+ str(format(dt*exposure_time*nth*1000, '.3g')) + ' $ms$',\n",
    "            fontsize = 12,\n",
    "         horizontalalignment='left',\n",
    "         verticalalignment='center',\n",
    "         bbox=dict(facecolor='w', alpha=1),\n",
    "         transform = ax.transAxes)\n",
    "    ax.set_xlim(xmax=np.max(bin_centres*pxl_mu))\n",
    "    ax.set_xlabel('$dr\\;\\mathrm{\\mu m}$')\n",
    "    ax.set_ylabel('$\\mathrm{counts/N}$')\n",
    "    return\n"
   ]
  },
  {
   "cell_type": "code",
   "execution_count": 78,
   "metadata": {},
   "outputs": [],
   "source": [
    "def Make_Plot_dx(ax,dt=1):\n",
    "    #t1.set_index(['master_index'],drop = False,inplace = True)\n",
    "    #t1_filtered = t1[(np.isfinite(np.array(t1['dy'])))\n",
    "    #                ];\n",
    "    #t1_filtered = t_to_use\n",
    "    #t1_filtered = t1[(np.isfinite(np.array(t1['dx'])))\n",
    "    #                 & (np.sqrt(np.array(t1['x']-255)**2 + np.array(t1['y']-255)**2) < 400)\n",
    "    #                ];\n",
    "    #print(np.sum(np.isfinite(np.array(t1_filtered[quantity]))))\n",
    "    #data = np.array(t1_filtered['dy'])\n",
    "    \n",
    "    dx_list = np.zeros(len(t1_filtered['x']))\n",
    "    dy_list = np.zeros(len(t1_filtered['x']))\n",
    "    #N = 0\n",
    "    #dt =1\n",
    "    n = 0\n",
    "    for  pid, ptraj in t1_filtered.groupby('particle'):\n",
    "        if len(ptraj.x)>dt:\n",
    "            x_data = (np.array(ptraj.x))\n",
    "            y_data = (np.array(ptraj.y))\n",
    "            #dx = (x_data[dt:]-x_data[:-dt])\n",
    "            #dy = (y_data[dt:]-y_data[:-dt])\n",
    "            \n",
    "            \n",
    "            #x_data = (np.array(ptraj.x)) #non rolling, stat indi\n",
    "            #y_data = (np.array(ptraj.y))\n",
    "            #dx = (x_data[::dt][1:]-x_data[::dt][:-1])\n",
    "            #dy = (y_data[::dt][1:]-y_data[::dt][:-1])\n",
    "            #dx_list[n:n+len(dx)] = dy\n",
    "            #n += len(dx)\n",
    "            \n",
    "            if 1: #roling\n",
    "                dx = (x_data[dt:]-x_data[:-dt])\n",
    "                dy = (y_data[dt:]-y_data[:-dt])\n",
    "                dx_list[n:n+len(dx)] = dx\n",
    "                dy_list[n:n+len(dx)] = dy\n",
    "                #dr_list[n:n+len(dx)] = np.sqrt(dx**2+dy**2)\n",
    "                n += len(dx)\n",
    "            else: # stat. indi.\n",
    "                dx = (x_data[::dt][1:]-x_data[::dt][:-1])\n",
    "                dy = (y_data[::dt][1:]-y_data[::dt][:-1])\n",
    "                dx_list[n:n+len(dx)] = dx\n",
    "                dy_list[n:n+len(dx)] = dy\n",
    "                #dr_list[n:n+len(dx)] = np.sqrt(dx**2+dy**2)\n",
    "                n += len(dx)\n",
    "            \n",
    "            \n",
    "    data = dx_list[dx_list!=0]\n",
    "    N = len(data)\n",
    "    n_bins = 80\n",
    "    hist, bin_edges = np.histogram(data, density=True,bins = n_bins)\n",
    "    bin_centres = (bin_edges[:-1] + bin_edges[1:])/2\n",
    "                    \n",
    "    # Define model function to be used to fit to the data above:\n",
    "    def gauss(x, *p):\n",
    "        A, mu, sigma = p\n",
    "        A, mu, D = p\n",
    "        #return A*np.exp(-(x-mu)**2/(2.*sigma**2))\n",
    "        return A/np.sqrt(np.pi*4*D*dt*exposure_time*nth)*np.exp(-(x-mu)**2/(4*D*dt*exposure_time*nth))\n",
    "    # p0 is the initial guess for the fitting coefficients (A, mu and sigma above)\n",
    "    p1 = [1,1]\n",
    "    \n",
    "    \n",
    "    p0 = [0., 0.1, 1.]\n",
    "    coeff, var_matrix = curve_fit(gauss, bin_centres, hist, p0=p0)\n",
    "    #coeff2, var_matrix = curve_fit(dphi_dist2, bin_centres, hist, p0=p1)\n",
    "    mean = coeff[1]  # write the mean innto the matrix\n",
    "    D = np.abs(coeff[2])\n",
    "    uncert = np.abs(var_matrix[1,1])\n",
    "    dx0_simple = np.mean(data)*pxl_mu/dt/exposure_time\n",
    "    uncert_mean = np.std(data)/np.sqrt(N)* stats.t.ppf(0.95,N)\n",
    "    D_simple = np.var(data)*pxl_mu**2/dt/exposure_time/2\n",
    "    \n",
    "    \n",
    "    hist_fit = gauss(bin_centres, *coeff)\n",
    "    #hist_fit2 = dphi_dist2(bin_centres,*coeff2)\n",
    "    \n",
    "    bin_size = bin_edges[1]-bin_edges[0]\n",
    "    bin_edges_mid = np.array(bin_edges)+bin_size/2\n",
    "    bin_edges_mid = list(bin_edges_mid)\n",
    "    bin_edges_mid.pop()\n",
    "    #ax.scatter(bin_edges_mid, hist)\n",
    "\n",
    "    ax.semilogy(np.array(bin_edges_mid)*pxl_mu, hist,color = 'black',label='$\\mathrm{data}$')\n",
    "    ax.semilogy(bin_centres*pxl_mu, hist_fit, label='$\\mathrm{gauss\\;fit}$', color = 'red')\n",
    "    #plt.xlim(np.min(data),np.max(data))\n",
    "    ax.set_ylim(ymin=10**-4)\n",
    "\n",
    "    ax.legend(fontsize=12)\n",
    "    #ax.grid(which='both')\n",
    "    #ax.set_xlim(left = -5, right = 5)\n",
    "    ax.set_title('$dx$'+ ' $\\mathrm{hist}$')\n",
    "    ax.text(0.03, 0.9,#' $\\sigma$ =' + str(format(std*pxl_mu, '.3g'))+ ' $\\mu m$  ;  '  \n",
    "            #+ '$D_t$ =  '+str(format(std**2/2/exposure_time*pxl_mu**2/nth/dt, '.2g')) + ' $\\mu m^2/s$'  ,\n",
    "             '$dt = $ '+ str(format(dt*exposure_time*nth*1000, '.3g')) + ' $\\mathrm{ms}$'\n",
    "            #+ '\\n'+ '$ \\\\frac{<dx^2>}{2dt}$  = '+str(format(D_simple, '.5g')) + ' $\\mu m^2/s$'\n",
    "            #+ '\\n'+ '$ \\\\frac{<dx>}{dt}$  = '+str(format(dx0_simple, '.5g')) + ' $\\mu m/s$'\n",
    "            + '\\n' + '$D_t =$  '+str(format(D*pxl_mu**2, '.3g')) + ' $\\mathrm{\\mu m^2/s}$',\n",
    "            fontsize=12,\n",
    "         horizontalalignment='left',\n",
    "         verticalalignment='center',\n",
    "         bbox=dict(facecolor='w', alpha=1),\n",
    "         transform = ax.transAxes)\n",
    "    ax.set_ylabel('$\\mathrm{counts/N}$')\n",
    "    ax.set_xlabel('$dx$ $\\mathrm{[\\mu m]}$')\n",
    "    ax.set_ylim(ymax = 15*np.max(hist))\n",
    "    ax.set_xlim(xmin = -3*np.std(data), xmax = 3*np.std(data))\n",
    "    return"
   ]
  },
  {
   "cell_type": "code",
   "execution_count": 79,
   "metadata": {},
   "outputs": [],
   "source": [
    "def Make_Plot_VAC(ax,logy = False,logx = False,fit=False):\n",
    "    max_lagtime = 25\n",
    "    VAC_list = []\n",
    "    #t1_filtered = t_to_use\n",
    "    std_l = []\n",
    "    uncert_l = []\n",
    "    for dt in range(0,max_lagtime):\n",
    "        VAC_tmp = 0\n",
    "        N = 0\n",
    "        n = 0\n",
    "        data_l = np.zeros(len(t1_filtered.x))\n",
    "        if dt==0:\n",
    "            for  pid, ptraj in t1_filtered.groupby('particle'):\n",
    "                if len(ptraj.x)>dt:\n",
    "                    x_data = (np.array(ptraj.x))\n",
    "                    y_data = (np.array(ptraj.y))\n",
    "                    #VAC_tmp += np.sum((x_data[1:]-x_data[:-1])[:]*(x_data[1:]-x_data[:-1])[:] + (y_data[1:]-y_data[:-1])[:]*(y_data[1:]-y_data[:-1])[:])\n",
    "                    L = len((x_data[1:]-x_data[:-1])[:])\n",
    "                    data_l[n:n+L] = (x_data[1:]-x_data[:-1])*(x_data[1:]-x_data[:-1]) + (y_data[1:]-y_data[:-1])*(y_data[1:]-y_data[:-1])\n",
    "                    #data_l[n:n+L] = (x_data[1:]-x_data[:-1])**2 + (y_data[1:]-y_data[:-1])**2\n",
    "                    n += L\n",
    "                    N += L\n",
    "        else:\n",
    "            for  pid, ptraj in t1_filtered.groupby('particle'):\n",
    "                if len(ptraj.x)>dt:\n",
    "                    #x_data = (np.array(ptraj.x))\n",
    "                    #y_data = (np.array(ptraj.y))\n",
    "                    #VAC_tmp += np.sum((x_data[1:]-x_data[:-1])[:-dt]*(x_data[1:]-x_data[:-1])[dt:] + (y_data[1:]-y_data[:-1])[:-dt]*(y_data[1:]-y_data[:-1])[dt:])\n",
    "                    x_data = (np.array(ptraj.x))\n",
    "                    y_data = (np.array(ptraj.y))\n",
    "                    #VAC_tmp += np.sum((x_data[1:]-x_data[:-1])[:-dt][::dt]*(x_data[1:]-x_data[:-1])[dt:][::dt] + (y_data[1:]-y_data[:-1])[:-dt][::dt]*(y_data[1:]-y_data[:-1])[dt:][::dt])\n",
    "                    L = len((x_data[1:]-x_data[:-1])[:-dt][::dt])\n",
    "                    data_l[n:n+L] = (x_data[1:]-x_data[:-1])[:-dt][::dt]*(x_data[1:]-x_data[:-1])[dt:][::dt] + (y_data[1:]-y_data[:-1])[:-dt][::dt]*(y_data[1:]-y_data[:-1])[dt:][::dt]\n",
    "                    n += L\n",
    "                    N += L\n",
    "                    #N+=len((x_data[1:]-x_data[:-1])[:-dt])\n",
    "        if N!=0:\n",
    "            #VAC_list.append(VAC_tmp/N)\n",
    "            VAC_list.append(np.mean(data_l[:n])/(exposure_time)**2*pxl_mu**2)\n",
    "            std_l.append(np.std(data_l[:n])/(exposure_time)**2*pxl_mu**2)\n",
    "            uncert_l.append(std_l[-1]/np.sqrt(n))\n",
    "    VAC_list = np.array(VAC_list)\n",
    "    uncert_l = np.array(uncert_l)\n",
    "    print('third VAC = ', VAC_list[2])\n",
    "    print('first VAC = ', VAC_list[0])\n",
    "    #VAC_list = np.array(VAC_list/VAC_list[0])\n",
    "    ax.scatter(np.linspace(1,len(VAC_list)+1,len(VAC_list))*exposure_time, VAC_list, label='$\\mathrm{VAC\\; (normalized)}$',color = 'black', facecolors='none', edgecolors='k')\n",
    "    ax.errorbar(np.linspace(1,len(VAC_list)+1,len(VAC_list))*exposure_time, VAC_list, yerr = uncert_l, color = 'k',label ='$\\mathrm{std/\\sqrt{N}}$' ,ls = 'none')\n",
    "    if fit:\n",
    "        def expfit(x,*p):\n",
    "            a, t = p\n",
    "            return a*np.exp(-x/t)\n",
    "        p0 = [1,1]\n",
    "        indis = (np.linspace(1,len(VAC_list)+1,len(VAC_list))>3) & (np.linspace(1,len(VAC_list)+1,len(VAC_list))<23)\n",
    "        t_fit = np.linspace(1,len(VAC_list),len(VAC_list))[indis]\n",
    "        #coeff, var_matrix = curve_fit(expfit, t_fit, VAC_list[indis], p0=p0)\n",
    "\n",
    "        coeff, var_matrix = curve_fit(expfit, t_fit, VAC_list[indis], p0=p0, sigma = uncert_l[indis],absolute_sigma=True)\n",
    "        tau = coeff[1]\n",
    "        f_fit = expfit(t_fit, *coeff)\n",
    "        print('done VAC')\n",
    "        ax.plot(t_fit*exposure_time,f_fit,label='$\\mathrm{exp\\;fit}$',c='r')\n",
    "        ax.text(0.66, 0.65,' $\\\\tau_{corr}$ =' + str(format(tau*exposure_time, '.2f'))+ ' s',\n",
    "                fontsize=12,\n",
    "             horizontalalignment='left',\n",
    "             verticalalignment='center',\n",
    "             bbox=dict(facecolor='w', alpha=1),\n",
    "             transform = ax.transAxes)\n",
    "    matplotlib.rcParams['text.latex.preamble']=[r\"\\usepackage{amsmath}\"]\n",
    "    \n",
    "    ax.legend(fontsize = 12,scatterpoints = 1,numpoints = 1)\n",
    "    if logx:\n",
    "        ax.set_xscale('log')\n",
    "    else:\n",
    "        ax.set_xlim(xmin = -0.1)\n",
    "    \n",
    "    if logy:\n",
    "        ax.set_yscale('log')\n",
    "        ax.set_ylim(ymin = np.min(VAC_list[VAC_list>0]),ymax = 1.2* np.max(VAC_list))\n",
    "        #ax.set_ylim(ymin = 4,ymax = 1.4* np.max(VAC_list))\n",
    "    else:\n",
    "        ax.set_ylim(ymin = np.min(VAC_list)-0.05*np.max(VAC_list), ymax = 1.2* np.max(VAC_list))\n",
    "    print('done somthing')\n",
    "    ax.set_ylabel(r'$ \\langle \\vec{v}_0\\cdot \\vec{v}_{dt} \\rangle \\;[\\mathrm{\\mu m^2/s^2}]$')\n",
    "    ax.set_xlabel('$dt\\;\\mathrm{[s]}$')\n",
    "    ax.set_title('$\\mathrm{VAC}$')\n",
    "    #print('tau fit = ', tau*exposure_time)\n",
    "    return\n"
   ]
  },
  {
   "cell_type": "code",
   "execution_count": 80,
   "metadata": {},
   "outputs": [],
   "source": [
    "def Make_Plot_MSD(ax,lagtime_ballistic = 5):\n",
    "    max_lagtime = 200\n",
    "    MSD_list = []\n",
    "    MSD_uncert_list = []\n",
    "    #t1_filtered = t_to_use\n",
    "    \n",
    "            \n",
    "    for dt in range(1,max_lagtime):  # stat. indipendent\n",
    "        \n",
    "        dx = []\n",
    "        dy = []\n",
    "        for  pid, ptraj in t1_filtered.groupby('particle'):\n",
    "            if len(ptraj.x)>dt:\n",
    "                x_data = (np.array(ptraj.x))[::dt]*pxl_mu\n",
    "                y_data = (np.array(ptraj.y))[::dt]*pxl_mu\n",
    "                dx += list((x_data[1:]-x_data[:-1]))\n",
    "                dy += list((y_data[1:]-y_data[:-1]))\n",
    "        dx = np.array(dx)\n",
    "        dy = np.array(dy)\n",
    "        MSD_list.append(np.mean(dx**2 + dy**2))\n",
    "        MSD_uncert_list.append(np.std(dx**2 + dy**2)/np.sqrt(len(dx)+1)* stats.t.ppf(0.98,len(dx)))\n",
    "            \n",
    "    \n",
    "    MSD_list = np.array(MSD_list)\n",
    "    MSD_uncert_list = np.array(MSD_uncert_list)\n",
    "    def linfit(x, *p):\n",
    "        D, y_0 = p\n",
    "        return 4*D*(x) +y_0\n",
    "    p0 = [10, 10.]\n",
    "    def sqfit(x,*p):\n",
    "        m, x_0, y_0 = p\n",
    "        return m*(x)**2\n",
    "    #p2 = [1, 1, 1]\n",
    "    p2 = [6,0.2,1]\n",
    "    p1 = [2,1,0.1,2,1,0]\n",
    "    def fit2(x,*p):\n",
    "        #a,m,y_0 = p\n",
    "        v ,D, y_0= p\n",
    "        #D = 0\n",
    "        #y_0 = 0\n",
    "        return v**2*x**2 + 4*D*x +y_0\n",
    "    \n",
    "    def theo_msd(t,*p):\n",
    "        u,tau,D,alpha,b,y_0 = p\n",
    "        return 4*D*t + alpha *u**2*tau**2*(b*t/tau + np.exp(-t/tau)-1)+y_0\n",
    "    \n",
    "    \n",
    "    \n",
    "    indis = (np.linspace(1,len(MSD_list)+1,len(MSD_list))>90) & (np.linspace(1,len(MSD_list)+1,len(MSD_list))<150)\n",
    "    indis2 = (np.linspace(1,len(MSD_list)+1,len(MSD_list))>0) & (np.linspace(1,len(MSD_list)+1,len(MSD_list))<lagtime_ballistic)\n",
    "    t_list = np.linspace(1,len(MSD_list),len(MSD_list))*exposure_time\n",
    "    t_fit = np.linspace(1,len(MSD_list),len(MSD_list))[indis]\n",
    "    t_fit2 = np.linspace(1,len(MSD_list),len(MSD_list))[indis2] \n",
    "    coeff, var_matrix = curve_fit(linfit, t_fit, MSD_list[indis], sigma = MSD_uncert_list[indis],absolute_sigma=True, p0=p0)\n",
    "    coeff2, var_matrix2 = curve_fit(fit2, t_fit2, MSD_list[indis2], sigma = MSD_uncert_list[indis2],absolute_sigma=True, p0=p2)\n",
    "    \n",
    "    \n",
    "    D_eff = coeff[0]\n",
    "    v_2 = np.abs(coeff2[0])\n",
    "    D_t2 = coeff2[1]\n",
    "    y_01 = coeff[1]\n",
    "    y_02 = coeff2[2]\n",
    "    f_fit = linfit(t_fit, *coeff)\n",
    "    f_fit2 = fit2(t_fit2, *coeff2)\n",
    "    f_fit_sup = 4*D_eff*np.linspace(1,len(MSD_list)+1)\n",
    "    \n",
    "    ax.plot(np.linspace(1,len(MSD_list)+1,len(MSD_list))*exposure_time, MSD_list, label='$\\mathrm{data}$',color = 'black')\n",
    "    #ax.plot(t_fit*exposure_time,f_fit,label='$4D_{eff}t +y_0$',color = 'red')\n",
    "    \n",
    "    ax.plot(t_fit2*exposure_time,f_fit2,label='$v^2t^2+4D_tt + y_1$',color = 'orange')\n",
    "    ax.fill_between(np.linspace(1,len(MSD_list)+1,len(MSD_list))*exposure_time, MSD_list + MSD_uncert_list, MSD_list - MSD_uncert_list,color='k', alpha = 0.2)\n",
    "    #ax.text(0.585, 0.13,'$\\mathrm{diffusive\\;fit}$'\n",
    "    #        + '\\n' + ' $D_{eff}$ =' + str(format(D_eff/exposure_time, '.3g'))+ ' $\\mathrm{ \\mu m^2/ s}$'\n",
    "    #        + '\\n' + '$y_0$ = ' + str(format(y_01,'.2f')),\n",
    "    #        fontsize = 12,\n",
    "    #     horizontalalignment='left',\n",
    "    #     verticalalignment='center',\n",
    "    #     bbox=dict(facecolor='w', alpha=1),\n",
    "    #     transform = ax.transAxes)\n",
    "    ax.text(0.036, 0.66,'$\\mathrm{ballistic\\;fit}$'\n",
    "            + '\\n' +' $v$ =' + str(format(v_2/exposure_time, '.2g'))+ ' $\\mathrm{ \\mu m /s}$'\n",
    "            + '\\n' + ' $D_t$ =' + str(format(D_t2/exposure_time, '.2g'))+ ' $\\mathrm{ \\mu m^2 /s}$'\n",
    "            + '\\n' + ' $y_1$ =' + str(format(y_02, '.2g'))+ ' $\\mathrm{ \\mu m^2}$',\n",
    "            fontsize = 12,\n",
    "         horizontalalignment='left',\n",
    "         verticalalignment='center',\n",
    "         bbox=dict(facecolor='w', alpha=1),\n",
    "         transform = ax.transAxes)\n",
    "    ax.set(ylabel=r'$\\langle \\Delta r^2 \\rangle$ $\\mathrm{[\\mu m^2]}$',\n",
    "       xlabel='$dt\\;[\\mathrm{s}]$')\n",
    "    ax.legend(loc=0,fontsize=12)\n",
    "    ax.set_xscale('log')\n",
    "    ax.set_yscale('log')\n",
    "    ax.set_title('$\\mathrm{MSD}$')\n",
    "    return"
   ]
  },
  {
   "cell_type": "code",
   "execution_count": 81,
   "metadata": {},
   "outputs": [],
   "source": [
    "def Make_Plot_Dt_of_dt_via_dx_hist(ax):\n",
    "    #t1.set_index(['master_index'],drop = False,inplace = True)\n",
    "    #t1_filtered = t1[(np.isfinite(np.array(t1['dy'])))\n",
    "    #                ];\n",
    "    #t1_filtered = t1#[(np.isfinite(np.array(t1['dx'])))\n",
    "                     #& (np.sqrt(np.array(t1['x']-255)**2 + np.array(t1['y']-255)**2) < 400)\n",
    "                    #];\n",
    "    \n",
    "    dx_list = np.zeros(len(t1_filtered['x']))\n",
    "    dy_list = np.zeros(len(t1_filtered['x']))\n",
    "    dr_list = np.zeros(len(t1_filtered['x']))\n",
    "    \n",
    "    #N = 0\n",
    "    max_dt = int(1.2*2/exposure_time)\n",
    "    dt_list = np.linspace(1,max_dt,max_dt).astype('int')\n",
    "    Dt_listx = np.zeros(len(dt_list))\n",
    "    Dt_listy = np.zeros(len(dt_list))\n",
    "    Dt_listr = np.zeros(len(dt_list))\n",
    "    for i in range(len(dt_list)):\n",
    "        dt = dt_list[i]\n",
    "        n = 0\n",
    "        for  pid, ptraj in t1.groupby('particle'):\n",
    "            if len(ptraj.x)>dt:\n",
    "                #x_data = (np.array(ptraj.x)) #rolling\n",
    "                #y_data = (np.array(ptraj.y))\n",
    "                #dx = (x_data[dt:]-x_data[:-dt])\n",
    "                #dy = (y_data[dt:]-y_data[:-dt])\n",
    "                x_data = (np.array(ptraj.x)) #non rolling, stat indi\n",
    "                y_data = (np.array(ptraj.y))\n",
    "                dx = (x_data[::dt][1:]-x_data[::dt][:-1])\n",
    "                dy = (y_data[::dt][1:]-y_data[::dt][:-1])\n",
    "                \n",
    "                dx_list[n:n+len(dx)] = dx\n",
    "                dy_list[n:n+len(dx)] = dy\n",
    "                dr_list[n:n+len(dx)] = np.sqrt(dx**2+dy**2)\n",
    "                n += len(dx)\n",
    "        datar = dr_list[:n]\n",
    "        datay = dy_list[:n]\n",
    "        datax = dx_list[:n]\n",
    "        \n",
    "        N = len(datax)\n",
    "        n_bins = 80\n",
    "        histx, bin_edgesx = np.histogram(datax, density=True,bins = n_bins)\n",
    "        histy, bin_edgesy = np.histogram(datay, density=True,bins = n_bins)\n",
    "        histr, bin_edgesr = np.histogram(datar, density=True,bins = n_bins)\n",
    "        bin_centresx = (bin_edgesx[:-1] + bin_edgesx[1:])/2\n",
    "        bin_centresy = (bin_edgesy[:-1] + bin_edgesy[1:])/2\n",
    "        bin_centresr = (bin_edgesr[:-1] + bin_edgesr[1:])/2\n",
    "\n",
    "        # Define model function to be used to fit to the data above:\n",
    "        def gauss(x, *p):\n",
    "            A, mu, sigma = p\n",
    "            A, mu, D = p\n",
    "            #return A*np.exp(-(x-mu)**2/(2.*sigma**2))\n",
    "            return A/np.sqrt(np.pi*4*D*dt*exposure_time*nth)*np.exp(-(x-mu)**2/(4*D*dt*exposure_time*nth))\n",
    "        # p0 is the initial guess for the fitting coefficients (A, mu and sigma above)\n",
    "        \n",
    "        def rayleigh(x,*p):\n",
    "            A, D = p\n",
    "            return 2*x/(4*D*dt*exposure_time*nth)*np.exp(-x**2/(4*D*dt*exposure_time*nth))\n",
    "        p1 = [1,1]\n",
    "        p0 = [0., 0.1, 1.]\n",
    "        coeffx, var_matrixx = curve_fit(gauss, bin_centresx, histx, p0=p0)\n",
    "        coeffy, var_matrixy = curve_fit(gauss, bin_centresy, histy, p0=p0)\n",
    "        coeffr, var_matrixr = curve_fit(rayleigh, bin_centresr, histr, p0=p1)\n",
    "        \n",
    "        #coeff2, var_matrix = curve_fit(dphi_dist2, bin_centres, hist, p0=p1)\n",
    "        #mean = coeff[1]  # write the mean innto the matrix\n",
    "        Dx = np.abs(coeffx[2])\n",
    "        Dy = np.abs(coeffy[2])\n",
    "        Dr = np.abs(coeffr[1])\n",
    "        \n",
    "        #Dx = np.var(datax)/2/exposure_time/dt\n",
    "        #Dy =  np.var(datay)/2/exposure_time/dt\n",
    "        #Dr =  np.mean(datar**2)/4/exposure_time/dt\n",
    "        \n",
    "        Dt_listx[i] = Dx*pxl_mu**2\n",
    "        Dt_listy[i] = Dy*pxl_mu**2\n",
    "        Dt_listr[i] = Dr*pxl_mu**2\n",
    "    #mean2 = np.mean(data)\n",
    "    #uncert2 = np.std(data)/np.sqrt(N)* stats.t.ppf(0.95,N)\n",
    "    ax.scatter(dt_list*exposure_time, Dt_listx,color='blue',label='$dx\\mathrm{\\;hist}$')\n",
    "    ax.scatter(dt_list*exposure_time, Dt_listy,color='red',label='$dy\\mathrm{\\;hist}$')\n",
    "    ax.scatter(dt_list*exposure_time, Dt_listr,color='black',label='$dr\\mathrm{\\;hist}$')\n",
    "    ax.legend()\n",
    "    ax.set_xscale(\"log\", nonposx='clip')\n",
    "    #ax.set_yscale(\"log\", nonposx='clip')\n",
    "    ax.set_xlim(xmax = 1.3*dt_list[-1]*exposure_time)\n",
    "    #ax.set_xlim(left = -5, right = 5)\n",
    "    ax.set_title(r'$D_t\\;\\mathrm{via\\;width\\;of\\;}d\\vec{x}\\mathrm{\\;hist}$')\n",
    "    ax.set_xlabel('$dt$ $\\mathrm{[s]}$')\n",
    "    ax.set_ylabel('$D_t$ $\\mathrm{[\\mu m^2 /s]}$')\n",
    "    #ax.get_xaxis().set_major_formatter(matplotlib.ticker.ScalarFormatter())\n",
    "    return"
   ]
  },
  {
   "cell_type": "code",
   "execution_count": 82,
   "metadata": {},
   "outputs": [],
   "source": [
    "nth = 1"
   ]
  },
  {
   "cell_type": "code",
   "execution_count": 83,
   "metadata": {},
   "outputs": [
    {
     "name": "stderr",
     "output_type": "stream",
     "text": [
      "/Users/Nic/anaconda3/lib/python3.6/site-packages/scipy/optimize/minpack.py:794: OptimizeWarning: Covariance of the parameters could not be estimated\n",
      "  category=OptimizeWarning)\n",
      "/Users/Nic/anaconda3/lib/python3.6/site-packages/ipykernel_launcher.py:60: RuntimeWarning: overflow encountered in exp\n"
     ]
    },
    {
     "name": "stdout",
     "output_type": "stream",
     "text": [
      "third VAC =  2329.017741627241\n",
      "first VAC =  4781.089983379804\n",
      "done somthing\n"
     ]
    },
    {
     "data": {
      "image/png": "[encoded data removed]",
      "text/plain": [
       "<Figure size 720x1080 with 5 Axes>"
      ]
     },
     "metadata": {},
     "output_type": "display_data"
    }
   ],
   "source": [
    "def Trans_free_bundle_plot(name = 'free'):\n",
    "    f, ax = plt.subplots(3, 2,figsize=(10,15))\n",
    "    plt.rcParams['patch.facecolor'] = 'white'\n",
    "    \n",
    "    #### dx parallel hist\n",
    "    dt_list = [1,8]\n",
    "    indi_list = [0,1]\n",
    "    \n",
    "    \n",
    "    Make_Plot_dx(ax[0,0],dt=1)\n",
    "    Make_Plot_dr(ax[1,0],dt=1)\n",
    "    ###Make_Plot_dx(ax[1,0],dt=16)\n",
    "    Make_Plot_Dt_of_dt_via_dx_hist(ax[1,1])\n",
    "    Make_Plot_MSD(ax[2,0],lagtime_ballistic=20)\n",
    "    Make_Plot_VAC(ax[2,1],logy=False,logx = True,fit=False)\n",
    "    \n",
    "    \n",
    "    f.delaxes(ax[0,1])\n",
    "    #f.delaxes(ax[1,1])\n",
    "\n",
    "    \n",
    "    plt.tight_layout()\n",
    "    space = 0.3\n",
    "    #plt.subplots_adjust(wspace=space, hspace=space)\n",
    "    #plt.savefig(name + '_trans_bundle.pdf')\n",
    "    \n",
    "    return\n",
    "Trans_free_bundle_plot()"
   ]
  },
  {
   "cell_type": "code",
   "execution_count": null,
   "metadata": {},
   "outputs": [],
   "source": []
  },
  {
   "cell_type": "code",
   "execution_count": null,
   "metadata": {},
   "outputs": [],
   "source": []
  },
  {
   "cell_type": "code",
   "execution_count": null,
   "metadata": {},
   "outputs": [],
   "source": []
  },
  {
   "cell_type": "code",
   "execution_count": null,
   "metadata": {},
   "outputs": [],
   "source": []
  },
  {
   "cell_type": "code",
   "execution_count": null,
   "metadata": {},
   "outputs": [],
   "source": []
  }
 ],
 "metadata": {
  "kernelspec": {
   "display_name": "Python 3",
   "language": "python",
   "name": "python3"
  },
  "language_info": {
   "codemirror_mode": {
    "name": "ipython",
    "version": 3
   },
   "file_extension": ".py",
   "mimetype": "text/x-python",
   "name": "python",
   "nbconvert_exporter": "python",
   "pygments_lexer": "ipython3",
   "version": "3.6.4"
  }
 },
 "nbformat": 4,
 "nbformat_minor": 2
}
