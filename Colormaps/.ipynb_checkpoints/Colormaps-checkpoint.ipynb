{
 "cells": [
  {
   "cell_type": "markdown",
   "metadata": {},
   "source": [
    "# Matplotlib Colormaps to PyQtGraph LookupTable"
   ]
  },
  {
   "cell_type": "code",
   "execution_count": 2,
   "metadata": {
    "collapsed": true
   },
   "outputs": [],
   "source": [
    "import numpy as np\n",
    "from matplotlib import colors, cm, pyplot as plt\n",
    "import matplotlib as mpl\n",
    "%matplotlib inline\n",
    "\n",
    "import sys, os\n",
    "import pickle"
   ]
  },
  {
   "cell_type": "markdown",
   "metadata": {},
   "source": [
    "### Default Colormaps"
   ]
  },
  {
   "cell_type": "code",
   "execution_count": 3,
   "metadata": {},
   "outputs": [
    {
     "data": {
      "image/png": "[encoded data removed]",
      "text/plain": [
       "<matplotlib.figure.Figure at 0x8a94400>"
      ]
     },
     "metadata": {},
     "output_type": "display_data"
    }
   ],
   "source": [
    "cmap = cm.get_cmap('gray')\n",
    "cmap._init()\n",
    "lut = (cmap._lut*255).view(np.ndarray)  # convert matplotlib colormap from 0-1 to 0-255 for\n",
    "pickle.dump(lut, open('Gray.pkl', 'wb'))\n",
    "fig, ax = plt.subplots(1, 1, figsize=(5, 0.5))\n",
    "cb = mpl.colorbar.ColorbarBase(ax, cmap=cmap, orientation='horizontal')"
   ]
  },
  {
   "cell_type": "code",
   "execution_count": 4,
   "metadata": {},
   "outputs": [
    {
     "data": {
      "image/png": "[encoded data removed]",
      "text/plain": [
       "<matplotlib.figure.Figure at 0x8ab7710>"
      ]
     },
     "metadata": {},
     "output_type": "display_data"
    }
   ],
   "source": [
    "cmap = cm.get_cmap('viridis')\n",
    "cmap._init()\n",
    "lut = (cmap._lut*255).view(np.ndarray)  # convert matplotlib colormap from 0-1 to 0-255 for\n",
    "pickle.dump(lut, open('Viridis.pkl', 'wb'))\n",
    "fig, ax = plt.subplots(1, 1, figsize=(5, 0.5))\n",
    "cb = mpl.colorbar.ColorbarBase(ax, cmap=cmap, orientation='horizontal')"
   ]
  },
  {
   "cell_type": "code",
   "execution_count": 5,
   "metadata": {
    "collapsed": true
   },
   "outputs": [],
   "source": [
    "#cmap = cm.get_cmap('terrain_r')\n",
    "#cmap._init()\n",
    "#lut = (cmap._lut*255).view(np.ndarray)  # convert matplotlib colormap from 0-1 to 0-255 for\n",
    "#pickle.dump(lut, open('Terrain.pkl', 'wb'))\n",
    "#fig, ax = plt.subplots(1, 1, figsize=(5, 0.5))\n",
    "#cb = mpl.colorbar.ColorbarBase(ax, cmap=cmap, orientation='horizontal')"
   ]
  },
  {
   "cell_type": "code",
   "execution_count": 8,
   "metadata": {},
   "outputs": [
    {
     "data": {
      "image/png": "[encoded data removed]",
      "text/plain": [
       "<matplotlib.figure.Figure at 0x5d9ec18>"
      ]
     },
     "metadata": {},
     "output_type": "display_data"
    }
   ],
   "source": [
    "cmap = cm.get_cmap('jet') # gist_rainbow_r\n",
    "cmap._init()\n",
    "lut = (cmap._lut*255).view(np.ndarray)  # convert matplotlib colormap from 0-1 to 0-255 for\n",
    "pickle.dump(lut, open('Jet.pkl', 'wb'))\n",
    "fig, ax = plt.subplots(1, 1, figsize=(5, 0.5))\n",
    "cb = mpl.colorbar.ColorbarBase(ax, cmap=cmap, orientation='horizontal')"
   ]
  },
  {
   "cell_type": "markdown",
   "metadata": {},
   "source": [
    "### Blue Colormaps"
   ]
  },
  {
   "cell_type": "code",
   "execution_count": 23,
   "metadata": {},
   "outputs": [
    {
     "data": {
      "image/png": "[encoded data removed]",
      "text/plain": [
       "<matplotlib.figure.Figure at 0x5a9b978>"
      ]
     },
     "metadata": {},
     "output_type": "display_data"
    }
   ],
   "source": [
    "cdict = {'blue':  ((0.0, 0, 0),  \n",
    "                   (0.3, 1, 1),\n",
    "                   (1.0, 1, 1)),\n",
    "              \n",
    "         'green': ((0.0, 0, 0),\n",
    "                   (0.3, 0, 0),\n",
    "                   (0.7, 1, 1),\n",
    "                   (1.0, 1, 1)),\n",
    "              \n",
    "         'red':   ((0.0, 0, 0),\n",
    "                   (0.7, 0, 0),\n",
    "                   (1.0, 1, 1)),}\n",
    "\n",
    "cmap = colors.LinearSegmentedColormap('cmap_tht', cdict, 1024)\n",
    "cmap._init()\n",
    "lut = (cmap._lut*255).view(np.ndarray)  # convert matplotlib colormap from 0-1 to 0-255 for\n",
    "pickle.dump(lut, open('ThT.pkl', 'wb'))\n",
    "fig, ax = plt.subplots(1, 1, figsize=(5, 0.5))\n",
    "cb = mpl.colorbar.ColorbarBase(ax, cmap=cmap, orientation='horizontal')"
   ]
  },
  {
   "cell_type": "code",
   "execution_count": null,
   "metadata": {
    "collapsed": true
   },
   "outputs": [],
   "source": []
  }
 ],
 "metadata": {
  "anaconda-cloud": {},
  "kernelspec": {
   "display_name": "Python 3",
   "language": "python",
   "name": "python3"
  },
  "language_info": {
   "codemirror_mode": {
    "name": "ipython",
    "version": 3
   },
   "file_extension": ".py",
   "mimetype": "text/x-python",
   "name": "python",
   "nbconvert_exporter": "python",
   "pygments_lexer": "ipython3",
   "version": "3.6.3"
  }
 },
 "nbformat": 4,
 "nbformat_minor": 1
}
