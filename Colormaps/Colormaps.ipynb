{
 "cells": [
  {
   "cell_type": "markdown",
   "metadata": {},
   "source": [
    "# Convert Matplotlib Colormaps to PyQtGraph Lookup Tables"
   ]
  },
  {
   "cell_type": "code",
   "execution_count": 2,
   "metadata": {
    "collapsed": true
   },
   "outputs": [],
   "source": [
    "import numpy as np\n",
    "from matplotlib import colors, cm, pyplot as plt\n",
    "import matplotlib as mpl\n",
    "%matplotlib inline"
   ]
  },
  {
   "cell_type": "markdown",
   "metadata": {},
   "source": [
    "## Default Colormaps"
   ]
  },
  {
   "cell_type": "markdown",
   "metadata": {},
   "source": [
    "### Gray"
   ]
  },
  {
   "cell_type": "code",
   "execution_count": 23,
   "metadata": {},
   "outputs": [
    {
     "data": {
      "image/png": "[encoded data removed]",
      "text/plain": [
       "<matplotlib.figure.Figure at 0x8f74198>"
      ]
     },
     "metadata": {},
     "output_type": "display_data"
    }
   ],
   "source": [
    "cmap = cm.get_cmap('gray')\n",
    "cmap._init()\n",
    "lut = (cmap._lut*255)[:-1] # convert lookup table from 0-1 to 0-255\n",
    "np.savetxt('Gray.csv', lut, delimiter=',', fmt='%d')\n",
    "\n",
    "fig, ax = plt.subplots(1, 1, figsize=(5, 0.5))\n",
    "cb = mpl.colorbar.ColorbarBase(ax, cmap=cmap, orientation='horizontal')"
   ]
  },
  {
   "cell_type": "markdown",
   "metadata": {},
   "source": [
    "### Viridis"
   ]
  },
  {
   "cell_type": "code",
   "execution_count": 66,
   "metadata": {},
   "outputs": [
    {
     "data": {
      "image/png": "[encoded data removed]",
      "text/plain": [
       "<matplotlib.figure.Figure at 0x8b7b4a8>"
      ]
     },
     "metadata": {},
     "output_type": "display_data"
    }
   ],
   "source": [
    "cmap = cm.get_cmap('viridis')\n",
    "cmap._init()\n",
    "lut = (cmap._lut*255).view(np.ndarray)[:-3] # convert lookup table from 0-1 to 0-255\n",
    "np.savetxt('Viridis.csv', lut, delimiter=',', fmt='%d')\n",
    "\n",
    "fig, ax = plt.subplots(1, 1, figsize=(5, 0.5))\n",
    "cb = mpl.colorbar.ColorbarBase(ax, cmap=cmap, orientation='horizontal')"
   ]
  },
  {
   "cell_type": "markdown",
   "metadata": {},
   "source": [
    "### Terrain"
   ]
  },
  {
   "cell_type": "code",
   "execution_count": 67,
   "metadata": {},
   "outputs": [
    {
     "data": {
      "image/png": "[encoded data removed]",
      "text/plain": [
       "<matplotlib.figure.Figure at 0x8b67940>"
      ]
     },
     "metadata": {},
     "output_type": "display_data"
    }
   ],
   "source": [
    "cmap = cm.get_cmap('terrain_r')\n",
    "cmap._init()\n",
    "lut = (cmap._lut*255).view(np.ndarray) # convert lookup table from 0-1 to 0-255\n",
    "np.savetxt('Terrain.csv', lut, delimiter=',', fmt='%d')\n",
    "\n",
    "fig, ax = plt.subplots(1, 1, figsize=(5, 0.5))\n",
    "cb = mpl.colorbar.ColorbarBase(ax, cmap=cmap, orientation='horizontal')"
   ]
  },
  {
   "cell_type": "markdown",
   "metadata": {},
   "source": [
    "### Jet"
   ]
  },
  {
   "cell_type": "code",
   "execution_count": 68,
   "metadata": {},
   "outputs": [
    {
     "data": {
      "image/png": "[encoded data removed]",
      "text/plain": [
       "<matplotlib.figure.Figure at 0x8b67908>"
      ]
     },
     "metadata": {},
     "output_type": "display_data"
    }
   ],
   "source": [
    "cmap = cm.get_cmap('jet') # gist_rainbow_r\n",
    "cmap._init()\n",
    "lut = (cmap._lut*255).view(np.ndarray) # convert lookup table from 0-1 to 0-255\n",
    "np.savetxt('Jet.csv', lut, delimiter=',', fmt='%d')\n",
    "\n",
    "fig, ax = plt.subplots(1, 1, figsize=(5, 0.5))\n",
    "cb = mpl.colorbar.ColorbarBase(ax, cmap=cmap, orientation='horizontal')"
   ]
  },
  {
   "cell_type": "markdown",
   "metadata": {},
   "source": [
    "### Hot"
   ]
  },
  {
   "cell_type": "code",
   "execution_count": 69,
   "metadata": {},
   "outputs": [
    {
     "data": {
      "image/png": "[encoded data removed]",
      "text/plain": [
       "<matplotlib.figure.Figure at 0x8c24128>"
      ]
     },
     "metadata": {},
     "output_type": "display_data"
    }
   ],
   "source": [
    "cmap = cm.get_cmap('hot')\n",
    "cmap._init()\n",
    "lut = (cmap._lut*255).view(np.ndarray) # convert lookup table from 0-1 to 0-255\n",
    "np.savetxt('Hot.csv', lut, delimiter=',', fmt='%d')\n",
    "\n",
    "fig, ax = plt.subplots(1, 1, figsize=(5, 0.5))\n",
    "cb = mpl.colorbar.ColorbarBase(ax, cmap=cmap, orientation='horizontal')"
   ]
  },
  {
   "cell_type": "markdown",
   "metadata": {},
   "source": [
    "### Bone"
   ]
  },
  {
   "cell_type": "code",
   "execution_count": 2,
   "metadata": {},
   "outputs": [
    {
     "data": {
      "image/png": "[encoded data removed]",
      "text/plain": [
       "<matplotlib.figure.Figure at 0x589fe48>"
      ]
     },
     "metadata": {},
     "output_type": "display_data"
    }
   ],
   "source": [
    "cmap = cm.get_cmap('bone')\n",
    "cmap._init()\n",
    "lut = (cmap._lut*255).view(np.ndarray) # convert lookup table from 0-1 to 0-255\n",
    "np.savetxt('Bone.csv', lut, delimiter=',', fmt='%d')\n",
    "\n",
    "fig, ax = plt.subplots(1, 1, figsize=(5, 0.5))\n",
    "cb = mpl.colorbar.ColorbarBase(ax, cmap=cmap, orientation='horizontal')"
   ]
  },
  {
   "cell_type": "markdown",
   "metadata": {},
   "source": [
    "## Custom Colormaps"
   ]
  },
  {
   "cell_type": "markdown",
   "metadata": {},
   "source": [
    "### Red"
   ]
  },
  {
   "cell_type": "code",
   "execution_count": 11,
   "metadata": {},
   "outputs": [
    {
     "data": {
      "image/png": "[encoded data removed]",
      "text/plain": [
       "<matplotlib.figure.Figure at 0x8c4d5f8>"
      ]
     },
     "metadata": {},
     "output_type": "display_data"
    }
   ],
   "source": [
    "cdict = {'red':  ((0.0, 0, 0),  \n",
    "                   (0.3, 1, 1),\n",
    "                   (1.0, 1, 1)),\n",
    "              \n",
    "         'green': ((0.0, 0, 0),\n",
    "                   (0.3, 0, 0),\n",
    "                   (1.0, 1, 1)),\n",
    "              \n",
    "         'blue':   ((0.0, 0, 0),\n",
    "                   (0.7, 0, 0),\n",
    "                   (1.0, 1, 1)),}\n",
    "\n",
    "cmap = colors.LinearSegmentedColormap('cmap_red', cdict, 256)\n",
    "cmap._init()\n",
    "lut = (cmap._lut*255).view(np.ndarray)[:-3] # convert lookup table from 0-1 to 0-255\n",
    "np.savetxt('Red.csv', lut, delimiter=',', fmt='%d')\n",
    "\n",
    "fig, ax = plt.subplots(1, 1, figsize=(5, 0.5))\n",
    "cb = mpl.colorbar.ColorbarBase(ax, cmap=cmap, orientation='horizontal')"
   ]
  },
  {
   "cell_type": "markdown",
   "metadata": {},
   "source": [
    "### Green"
   ]
  },
  {
   "cell_type": "code",
   "execution_count": 72,
   "metadata": {},
   "outputs": [
    {
     "data": {
      "image/png": "[encoded data removed]",
      "text/plain": [
       "<matplotlib.figure.Figure at 0x8d88278>"
      ]
     },
     "metadata": {},
     "output_type": "display_data"
    }
   ],
   "source": [
    "cdict = {'green':  ((0.0, 0, 0),  \n",
    "                   (0.3, 1, 1),\n",
    "                   (1.0, 1, 1)),\n",
    "              \n",
    "         'red': ((0.0, 0, 0),\n",
    "                   (0.3, 0, 0),\n",
    "                   (1.0, 1, 1)),\n",
    "              \n",
    "         'blue':   ((0.0, 0, 0),\n",
    "                   (0.7, 0, 0),\n",
    "                   (1.0, 1, 1)),}\n",
    "\n",
    "cmap = colors.LinearSegmentedColormap('cmap_green', cdict, 1024)\n",
    "cmap._init()\n",
    "lut = (cmap._lut*255).view(np.ndarray) # convert lookup table from 0-1 to 0-255\n",
    "np.savetxt('Green.csv', lut, delimiter=',', fmt='%d')\n",
    "\n",
    "fig, ax = plt.subplots(1, 1, figsize=(5, 0.5))\n",
    "cb = mpl.colorbar.ColorbarBase(ax, cmap=cmap, orientation='horizontal')"
   ]
  },
  {
   "cell_type": "markdown",
   "metadata": {},
   "source": [
    "### Blue"
   ]
  },
  {
   "cell_type": "code",
   "execution_count": 73,
   "metadata": {},
   "outputs": [
    {
     "data": {
      "image/png": "[encoded data removed]",
      "text/plain": [
       "<matplotlib.figure.Figure at 0x8d59f28>"
      ]
     },
     "metadata": {},
     "output_type": "display_data"
    }
   ],
   "source": [
    "cdict = {'blue':  ((0.0, 0, 0),  \n",
    "                   (0.3, 1, 1),\n",
    "                   (1.0, 1, 1)),\n",
    "              \n",
    "         'green': ((0.0, 0, 0),\n",
    "                   (0.3, 0, 0),\n",
    "                   (1.0, 1, 1)),\n",
    "              \n",
    "         'red':   ((0.0, 0, 0),\n",
    "                   (0.7, 0, 0),\n",
    "                   (1.0, 1, 1)),}\n",
    "\n",
    "cmap = colors.LinearSegmentedColormap('cmap_blue', cdict, 1024)\n",
    "cmap._init()\n",
    "lut = (cmap._lut*255).view(np.ndarray) # convert lookup table from 0-1 to 0-255\n",
    "np.savetxt('Blue.csv', lut, delimiter=',', fmt='%d')\n",
    "\n",
    "fig, ax = plt.subplots(1, 1, figsize=(5, 0.5))\n",
    "cb = mpl.colorbar.ColorbarBase(ax, cmap=cmap, orientation='horizontal')"
   ]
  },
  {
   "cell_type": "code",
   "execution_count": 4,
   "metadata": {},
   "outputs": [
    {
     "data": {
      "image/png": "[encoded data removed]",
      "text/plain": [
       "<matplotlib.figure.Figure at 0x8fddef0>"
      ]
     },
     "metadata": {},
     "output_type": "display_data"
    }
   ],
   "source": [
    "cdict = {'red':   ((0.0, 1, 1),  \n",
    "                   (1.0, 0, 0)),\n",
    "              \n",
    "         'green': ((0.0, 1, 1),\n",
    "                   (1.0, 0, 0)),\n",
    "              \n",
    "         'blue':  ((0.0, 1, 1),\n",
    "                   (1.0, 1, 1)),}\n",
    "\n",
    "cmap = colors.LinearSegmentedColormap('cmap_white-blue', cdict, 1024)\n",
    "cmap._init()\n",
    "lut = (cmap._lut*255).view(np.ndarray) # convert lookup table from 0-1 to 0-255\n",
    "np.savetxt('White-Blue.csv', lut, delimiter=',', fmt='%d')\n",
    "\n",
    "fig, ax = plt.subplots(1, 1, figsize=(5, 0.5))\n",
    "cb = mpl.colorbar.ColorbarBase(ax, cmap=cmap, orientation='horizontal')"
   ]
  },
  {
   "cell_type": "markdown",
   "metadata": {},
   "source": [
    "### ThT"
   ]
  },
  {
   "cell_type": "code",
   "execution_count": 16,
   "metadata": {},
   "outputs": [
    {
     "data": {
      "image/png": "[encoded data removed]",
      "text/plain": [
       "<matplotlib.figure.Figure at 0x80eeb38>"
      ]
     },
     "metadata": {},
     "output_type": "display_data"
    }
   ],
   "source": [
    "cdict = {'blue':  ((0.0, 0, 0),  \n",
    "                   (0.3, 1, 1),\n",
    "                   (1.0, 1, 1)),\n",
    "              \n",
    "         'green': ((0.0, 0, 0),\n",
    "                   (0.3, 0, 0),\n",
    "                   (0.7, 1, 1),\n",
    "                   (1.0, 1, 1)),\n",
    "              \n",
    "         'red':   ((0.0, 0, 0),\n",
    "                   (0.7, 0, 0),\n",
    "                   (1.0, 1, 1)),}\n",
    "\n",
    "cmap = colors.LinearSegmentedColormap('cmap_tht', cdict, 1024)\n",
    "cmap._init()\n",
    "lut = (cmap._lut*255).view(np.ndarray) # convert lookup table from 0-1 to 0-255\n",
    "np.savetxt('ThT 1.csv', lut, delimiter=',', fmt='%d')\n",
    "\n",
    "fig, ax = plt.subplots(1, 1, figsize=(5, 0.5))\n",
    "cb = mpl.colorbar.ColorbarBase(ax, cmap=cmap, orientation='horizontal')"
   ]
  },
  {
   "cell_type": "markdown",
   "metadata": {},
   "source": [
    "### ThT 2"
   ]
  },
  {
   "cell_type": "code",
   "execution_count": 17,
   "metadata": {},
   "outputs": [
    {
     "data": {
      "image/png": "[encoded data removed]",
      "text/plain": [
       "<matplotlib.figure.Figure at 0x805af98>"
      ]
     },
     "metadata": {},
     "output_type": "display_data"
    }
   ],
   "source": [
    "cdict = {'red':   ((0.0, 0, 0),\n",
    "                   (0.0, 0, 0),\n",
    "                   (1.0, 1, 1)),\n",
    "         \n",
    "         'green': ((0.0, 0, 0),\n",
    "                   (0.7, 1, 1),\n",
    "                   (1.0, 1, 1)),\n",
    "         \n",
    "         'blue':  ((0.0, 0, 0),  \n",
    "                   (0.7, 0, 0),\n",
    "                   (1.0, 1, 1)),          \n",
    "}\n",
    "\n",
    "cmap = colors.LinearSegmentedColormap('cmap_blue', cdict, 1024)\n",
    "cmap._init()\n",
    "lut = (cmap._lut*255).view(np.ndarray) # convert lookup table from 0-1 to 0-255\n",
    "np.savetxt('ThT 2.csv', lut, delimiter=',', fmt='%d')\n",
    "\n",
    "fig, ax = plt.subplots(1, 1, figsize=(5, 0.5))\n",
    "cb = mpl.colorbar.ColorbarBase(ax, cmap=cmap, orientation='horizontal')"
   ]
  },
  {
   "cell_type": "code",
   "execution_count": null,
   "metadata": {},
   "outputs": [],
   "source": []
  }
 ],
 "metadata": {
  "anaconda-cloud": {},
  "kernelspec": {
   "display_name": "Python 3",
   "language": "python",
   "name": "python3"
  },
  "language_info": {
   "codemirror_mode": {
    "name": "ipython",
    "version": 3
   },
   "file_extension": ".py",
   "mimetype": "text/x-python",
   "name": "python",
   "nbconvert_exporter": "python",
   "pygments_lexer": "ipython3",
   "version": "3.6.5"
  }
 },
 "nbformat": 4,
 "nbformat_minor": 2
}
