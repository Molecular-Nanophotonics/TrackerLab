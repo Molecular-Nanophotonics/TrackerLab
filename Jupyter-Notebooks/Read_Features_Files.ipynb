{
 "cells": [
  {
   "cell_type": "markdown",
   "metadata": {},
   "source": [
    "# How to read HDF5 and CSV features files from TrackerLab"
   ]
  },
  {
   "cell_type": "markdown",
   "metadata": {
    "slideshow": {
     "slide_type": "notes"
    }
   },
   "source": [
    "This short Notebook demonstates how to read the HDF5 and CSV feature files exported from the TrackerLab. We recommend to work with the HDF5 file format."
   ]
  },
  {
   "cell_type": "markdown",
   "metadata": {},
   "source": [
    "## Required packages"
   ]
  },
  {
   "cell_type": "code",
   "execution_count": 3,
   "metadata": {
    "collapsed": true
   },
   "outputs": [],
   "source": [
    "import numpy as np\n",
    "pi = np.pi\n",
    "import matplotlib.pyplot as plt\n",
    "%matplotlib inline\n",
    "\n",
    "import pandas as pd"
   ]
  },
  {
   "cell_type": "markdown",
   "metadata": {},
   "source": [
    "## How to read HDF5 feature files"
   ]
  },
  {
   "cell_type": "code",
   "execution_count": 6,
   "metadata": {},
   "outputs": [],
   "source": [
    "file = 'E:\\Sample Data\\Set1_001_features.h5'"
   ]
  },
  {
   "cell_type": "code",
   "execution_count": 7,
   "metadata": {},
   "outputs": [
    {
     "data": {
      "text/plain": [
       "{'binning': 1,\n",
       " 'dimx': 512,\n",
       " 'dimy': 512,\n",
       " 'exposure': 0.03,\n",
       " 'frames': 1000,\n",
       " 'median': 2,\n",
       " 'method': 'Connected-Component',\n",
       " 'tab1InvertCheckBox': 0,\n",
       " 'tab1MaxAreaSpinBox': 250,\n",
       " 'tab1MaxFeaturesSpinBox': 100,\n",
       " 'tab1MinAreaSpinBox': 10,\n",
       " 'tab1ThresholdSpinBox': 1000}"
      ]
     },
     "execution_count": 7,
     "metadata": {},
     "output_type": "execute_result"
    }
   ],
   "source": [
    "# Read the metadata\n",
    "with pd.HDFStore(file) as store:\n",
    "    metadata = store['metadata'].to_dict('records')[0]\n",
    "    store.close() \n",
    "metadata"
   ]
  },
  {
   "cell_type": "code",
   "execution_count": 8,
   "metadata": {},
   "outputs": [],
   "source": [
    "dimx = metadata['dimx']\n",
    "dimy = metadata['dimy']\n",
    "binning = metadata['binning']\n",
    "exposure = metadata['exposure']\n",
    "# ..."
   ]
  },
  {
   "cell_type": "code",
   "execution_count": 12,
   "metadata": {},
   "outputs": [],
   "source": [
    "# Read the features DataFrame\n",
    "with pd.HDFStore(file) as store:\n",
    "        features = store['features']\n",
    "        store.close()"
   ]
  },
  {
   "cell_type": "code",
   "execution_count": 13,
   "metadata": {},
   "outputs": [
    {
     "data": {
      "text/html": [
       "<div>\n",
       "<style>\n",
       "    .dataframe thead tr:only-child th {\n",
       "        text-align: right;\n",
       "    }\n",
       "\n",
       "    .dataframe thead th {\n",
       "        text-align: left;\n",
       "    }\n",
       "\n",
       "    .dataframe tbody tr th {\n",
       "        vertical-align: top;\n",
       "    }\n",
       "</style>\n",
       "<table border=\"1\" class=\"dataframe\">\n",
       "  <thead>\n",
       "    <tr style=\"text-align: right;\">\n",
       "      <th></th>\n",
       "      <th>area</th>\n",
       "      <th>frame</th>\n",
       "      <th>major_axis_length</th>\n",
       "      <th>max_intensity</th>\n",
       "      <th>minor_axis_length</th>\n",
       "      <th>orientation</th>\n",
       "      <th>x</th>\n",
       "      <th>y</th>\n",
       "    </tr>\n",
       "  </thead>\n",
       "  <tbody>\n",
       "    <tr>\n",
       "      <th>0</th>\n",
       "      <td>118</td>\n",
       "      <td>1</td>\n",
       "      <td>14.640238</td>\n",
       "      <td>5315</td>\n",
       "      <td>10.802322</td>\n",
       "      <td>1.529278</td>\n",
       "      <td>3.864407</td>\n",
       "      <td>34.508475</td>\n",
       "    </tr>\n",
       "    <tr>\n",
       "      <th>0</th>\n",
       "      <td>170</td>\n",
       "      <td>1</td>\n",
       "      <td>14.923881</td>\n",
       "      <td>12147</td>\n",
       "      <td>14.536187</td>\n",
       "      <td>0.829469</td>\n",
       "      <td>138.876471</td>\n",
       "      <td>178.264706</td>\n",
       "    </tr>\n",
       "    <tr>\n",
       "      <th>0</th>\n",
       "      <td>229</td>\n",
       "      <td>1</td>\n",
       "      <td>19.962029</td>\n",
       "      <td>9832</td>\n",
       "      <td>14.637099</td>\n",
       "      <td>1.036854</td>\n",
       "      <td>503.685590</td>\n",
       "      <td>220.816594</td>\n",
       "    </tr>\n",
       "    <tr>\n",
       "      <th>0</th>\n",
       "      <td>161</td>\n",
       "      <td>1</td>\n",
       "      <td>15.263184</td>\n",
       "      <td>8521</td>\n",
       "      <td>13.455119</td>\n",
       "      <td>-0.695266</td>\n",
       "      <td>283.838509</td>\n",
       "      <td>241.385093</td>\n",
       "    </tr>\n",
       "    <tr>\n",
       "      <th>0</th>\n",
       "      <td>197</td>\n",
       "      <td>1</td>\n",
       "      <td>18.715573</td>\n",
       "      <td>7722</td>\n",
       "      <td>13.442326</td>\n",
       "      <td>0.357629</td>\n",
       "      <td>455.543147</td>\n",
       "      <td>380.192893</td>\n",
       "    </tr>\n",
       "  </tbody>\n",
       "</table>\n",
       "</div>"
      ],
      "text/plain": [
       "   area  frame  major_axis_length  max_intensity  minor_axis_length  \\\n",
       "0   118      1          14.640238           5315          10.802322   \n",
       "0   170      1          14.923881          12147          14.536187   \n",
       "0   229      1          19.962029           9832          14.637099   \n",
       "0   161      1          15.263184           8521          13.455119   \n",
       "0   197      1          18.715573           7722          13.442326   \n",
       "\n",
       "   orientation           x           y  \n",
       "0     1.529278    3.864407   34.508475  \n",
       "0     0.829469  138.876471  178.264706  \n",
       "0     1.036854  503.685590  220.816594  \n",
       "0    -0.695266  283.838509  241.385093  \n",
       "0     0.357629  455.543147  380.192893  "
      ]
     },
     "execution_count": 13,
     "metadata": {},
     "output_type": "execute_result"
    }
   ],
   "source": [
    "features.head()"
   ]
  },
  {
   "cell_type": "markdown",
   "metadata": {},
   "source": [
    "## How to read CSV feature files"
   ]
  },
  {
   "cell_type": "code",
   "execution_count": 14,
   "metadata": {},
   "outputs": [],
   "source": [
    "file = 'E:\\Sample Data\\Set1_001_features.csv'"
   ]
  },
  {
   "cell_type": "code",
   "execution_count": 16,
   "metadata": {},
   "outputs": [
    {
     "data": {
      "text/plain": [
       "{'binning': 1,\n",
       " 'dimx': 512,\n",
       " 'dimy': 512,\n",
       " 'exposure': 0.03,\n",
       " 'frames': 1000,\n",
       " 'median': 2,\n",
       " 'method': 'Connected-Component',\n",
       " 'tab1InvertCheckBox': 0,\n",
       " 'tab1MaxAreaSpinBox': 250,\n",
       " 'tab1MaxFeaturesSpinBox': 100,\n",
       " 'tab1MinAreaSpinBox': 10,\n",
       " 'tab1ThresholdSpinBox': 1000}"
      ]
     },
     "execution_count": 16,
     "metadata": {},
     "output_type": "execute_result"
    }
   ],
   "source": [
    "# Read the metadata is stored in the first two r\n",
    "metadata = pd.read_csv(file, nrows=1, index_col=0).to_dict('records')[0]\n",
    "metadata"
   ]
  },
  {
   "cell_type": "code",
   "execution_count": 18,
   "metadata": {},
   "outputs": [
    {
     "data": {
      "text/html": [
       "<div>\n",
       "<style>\n",
       "    .dataframe thead tr:only-child th {\n",
       "        text-align: right;\n",
       "    }\n",
       "\n",
       "    .dataframe thead th {\n",
       "        text-align: left;\n",
       "    }\n",
       "\n",
       "    .dataframe tbody tr th {\n",
       "        vertical-align: top;\n",
       "    }\n",
       "</style>\n",
       "<table border=\"1\" class=\"dataframe\">\n",
       "  <thead>\n",
       "    <tr style=\"text-align: right;\">\n",
       "      <th></th>\n",
       "      <th>area</th>\n",
       "      <th>frame</th>\n",
       "      <th>major_axis_length</th>\n",
       "      <th>max_intensity</th>\n",
       "      <th>minor_axis_length</th>\n",
       "      <th>orientation</th>\n",
       "      <th>x</th>\n",
       "      <th>y</th>\n",
       "    </tr>\n",
       "  </thead>\n",
       "  <tbody>\n",
       "    <tr>\n",
       "      <th>0</th>\n",
       "      <td>118</td>\n",
       "      <td>1</td>\n",
       "      <td>14.640238</td>\n",
       "      <td>5315</td>\n",
       "      <td>10.802322</td>\n",
       "      <td>1.529278</td>\n",
       "      <td>3.864407</td>\n",
       "      <td>34.508475</td>\n",
       "    </tr>\n",
       "    <tr>\n",
       "      <th>0</th>\n",
       "      <td>170</td>\n",
       "      <td>1</td>\n",
       "      <td>14.923881</td>\n",
       "      <td>12147</td>\n",
       "      <td>14.536187</td>\n",
       "      <td>0.829469</td>\n",
       "      <td>138.876471</td>\n",
       "      <td>178.264706</td>\n",
       "    </tr>\n",
       "    <tr>\n",
       "      <th>0</th>\n",
       "      <td>229</td>\n",
       "      <td>1</td>\n",
       "      <td>19.962029</td>\n",
       "      <td>9832</td>\n",
       "      <td>14.637099</td>\n",
       "      <td>1.036854</td>\n",
       "      <td>503.685590</td>\n",
       "      <td>220.816594</td>\n",
       "    </tr>\n",
       "    <tr>\n",
       "      <th>0</th>\n",
       "      <td>161</td>\n",
       "      <td>1</td>\n",
       "      <td>15.263184</td>\n",
       "      <td>8521</td>\n",
       "      <td>13.455119</td>\n",
       "      <td>-0.695266</td>\n",
       "      <td>283.838509</td>\n",
       "      <td>241.385093</td>\n",
       "    </tr>\n",
       "    <tr>\n",
       "      <th>0</th>\n",
       "      <td>197</td>\n",
       "      <td>1</td>\n",
       "      <td>18.715573</td>\n",
       "      <td>7722</td>\n",
       "      <td>13.442326</td>\n",
       "      <td>0.357629</td>\n",
       "      <td>455.543147</td>\n",
       "      <td>380.192893</td>\n",
       "    </tr>\n",
       "  </tbody>\n",
       "</table>\n",
       "</div>"
      ],
      "text/plain": [
       "   area  frame  major_axis_length  max_intensity  minor_axis_length  \\\n",
       "0   118      1          14.640238           5315          10.802322   \n",
       "0   170      1          14.923881          12147          14.536187   \n",
       "0   229      1          19.962029           9832          14.637099   \n",
       "0   161      1          15.263184           8521          13.455119   \n",
       "0   197      1          18.715573           7722          13.442326   \n",
       "\n",
       "   orientation           x           y  \n",
       "0     1.529278    3.864407   34.508475  \n",
       "0     0.829469  138.876471  178.264706  \n",
       "0     1.036854  503.685590  220.816594  \n",
       "0    -0.695266  283.838509  241.385093  \n",
       "0     0.357629  455.543147  380.192893  "
      ]
     },
     "execution_count": 18,
     "metadata": {},
     "output_type": "execute_result"
    }
   ],
   "source": [
    "features = pd.read_csv(file, skiprows=2, index_col=0)\n",
    "features.head()"
   ]
  },
  {
   "cell_type": "code",
   "execution_count": null,
   "metadata": {},
   "outputs": [],
   "source": []
  }
 ],
 "metadata": {
  "anaconda-cloud": {},
  "kernelspec": {
   "display_name": "Python 3",
   "language": "python",
   "name": "python3"
  },
  "language_info": {
   "codemirror_mode": {
    "name": "ipython",
    "version": 3
   },
   "file_extension": ".py",
   "mimetype": "text/x-python",
   "name": "python",
   "nbconvert_exporter": "python",
   "pygments_lexer": "ipython3",
   "version": "3.6.5"
  },
  "varInspector": {
   "cols": {
    "lenName": 16,
    "lenType": 16,
    "lenVar": 40
   },
   "kernels_config": {
    "python": {
     "delete_cmd_postfix": "",
     "delete_cmd_prefix": "del ",
     "library": "var_list.py",
     "varRefreshCmd": "print(var_dic_list())"
    },
    "r": {
     "delete_cmd_postfix": ") ",
     "delete_cmd_prefix": "rm(",
     "library": "var_list.r",
     "varRefreshCmd": "cat(var_dic_list()) "
    }
   },
   "types_to_exclude": [
    "module",
    "function",
    "builtin_function_or_method",
    "instance",
    "_Feature"
   ],
   "window_display": false
  }
 },
 "nbformat": 4,
 "nbformat_minor": 2
}
