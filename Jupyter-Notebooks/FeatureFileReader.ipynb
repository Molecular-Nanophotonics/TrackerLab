{
 "cells": [
  {
   "cell_type": "markdown",
   "metadata": {},
   "source": [
    "# How to read HDF5 and CSV features files from TrackerLab"
   ]
  },
  {
   "cell_type": "markdown",
   "metadata": {
    "slideshow": {
     "slide_type": "notes"
    }
   },
   "source": [
    "This Notebook demonstates how to read the HDF5 and CSV feature files exported from the TrackerLab. We recommend to work with the HDF5 file format."
   ]
  },
  {
   "cell_type": "markdown",
   "metadata": {},
   "source": [
    "## Required packages"
   ]
  },
  {
   "cell_type": "code",
   "execution_count": 45,
   "metadata": {
    "collapsed": true
   },
   "outputs": [],
   "source": [
    "import numpy as np\n",
    "pi = np.pi\n",
    "import matplotlib.pyplot as plt\n",
    "%matplotlib inline\n",
    "\n",
    "import pandas as pd"
   ]
  },
  {
   "cell_type": "markdown",
   "metadata": {},
   "source": [
    "## How to read HDF5 feature files"
   ]
  },
  {
   "cell_type": "code",
   "execution_count": 46,
   "metadata": {},
   "outputs": [],
   "source": [
    "path_to_file = 'E:\\Test_001_features.h5'"
   ]
  },
  {
   "cell_type": "code",
   "execution_count": 47,
   "metadata": {},
   "outputs": [
    {
     "data": {
      "text/plain": [
       "{'binning': 1,\n",
       " 'dimx': 512,\n",
       " 'dimy': 512,\n",
       " 'exposure': 0.03,\n",
       " 'frames': 434,\n",
       " 'median': 2,\n",
       " 'method': 'Connected-Component',\n",
       " 'tab1InvertCheckBox': 0,\n",
       " 'tab1MaxAreaSpinBox': 250,\n",
       " 'tab1MaxFeaturesSpinBox': 100,\n",
       " 'tab1MinAreaSpinBox': 10,\n",
       " 'tab1ThresholdSpinBox': 1000}"
      ]
     },
     "execution_count": 47,
     "metadata": {},
     "output_type": "execute_result"
    }
   ],
   "source": [
    "# Read the metadata\n",
    "with pd.HDFStore(path_to_file) as store:\n",
    "    metadata = store['metadata'].to_dict('records')[0]\n",
    "    store.close() \n",
    "metadata"
   ]
  },
  {
   "cell_type": "code",
   "execution_count": 48,
   "metadata": {},
   "outputs": [],
   "source": [
    "dimx = metadata['dimx']\n",
    "dimy = metadata['dimy']\n",
    "binning = metadata['binning']\n",
    "exposure = metadata['exposure']\n",
    "# ..."
   ]
  },
  {
   "cell_type": "code",
   "execution_count": 49,
   "metadata": {},
   "outputs": [],
   "source": [
    "# Read the features DataFrame\n",
    "with pd.HDFStore(path_to_file) as store:\n",
    "        features = store['features']\n",
    "        store.close()"
   ]
  },
  {
   "cell_type": "code",
   "execution_count": 50,
   "metadata": {},
   "outputs": [
    {
     "data": {
      "text/html": [
       "<div>\n",
       "<style>\n",
       "    .dataframe thead tr:only-child th {\n",
       "        text-align: right;\n",
       "    }\n",
       "\n",
       "    .dataframe thead th {\n",
       "        text-align: left;\n",
       "    }\n",
       "\n",
       "    .dataframe tbody tr th {\n",
       "        vertical-align: top;\n",
       "    }\n",
       "</style>\n",
       "<table border=\"1\" class=\"dataframe\">\n",
       "  <thead>\n",
       "    <tr style=\"text-align: right;\">\n",
       "      <th></th>\n",
       "      <th>area</th>\n",
       "      <th>frame</th>\n",
       "      <th>major_axis_length</th>\n",
       "      <th>max_intensity</th>\n",
       "      <th>minor_axis_length</th>\n",
       "      <th>orientation</th>\n",
       "      <th>x</th>\n",
       "      <th>y</th>\n",
       "    </tr>\n",
       "  </thead>\n",
       "  <tbody>\n",
       "    <tr>\n",
       "      <th>0</th>\n",
       "      <td>219</td>\n",
       "      <td>0</td>\n",
       "      <td>19.129969</td>\n",
       "      <td>11259</td>\n",
       "      <td>14.601925</td>\n",
       "      <td>-0.630483</td>\n",
       "      <td>277.538813</td>\n",
       "      <td>152.995434</td>\n",
       "    </tr>\n",
       "    <tr>\n",
       "      <th>0</th>\n",
       "      <td>223</td>\n",
       "      <td>0</td>\n",
       "      <td>17.285530</td>\n",
       "      <td>14772</td>\n",
       "      <td>16.467085</td>\n",
       "      <td>-1.516098</td>\n",
       "      <td>212.206278</td>\n",
       "      <td>326.130045</td>\n",
       "    </tr>\n",
       "    <tr>\n",
       "      <th>0</th>\n",
       "      <td>210</td>\n",
       "      <td>0</td>\n",
       "      <td>17.471085</td>\n",
       "      <td>12140</td>\n",
       "      <td>15.320333</td>\n",
       "      <td>0.482246</td>\n",
       "      <td>123.166667</td>\n",
       "      <td>335.438095</td>\n",
       "    </tr>\n",
       "    <tr>\n",
       "      <th>0</th>\n",
       "      <td>188</td>\n",
       "      <td>0</td>\n",
       "      <td>15.619607</td>\n",
       "      <td>14026</td>\n",
       "      <td>15.338486</td>\n",
       "      <td>1.176994</td>\n",
       "      <td>450.053191</td>\n",
       "      <td>446.723404</td>\n",
       "    </tr>\n",
       "    <tr>\n",
       "      <th>0</th>\n",
       "      <td>213</td>\n",
       "      <td>1</td>\n",
       "      <td>17.236527</td>\n",
       "      <td>15370</td>\n",
       "      <td>15.801502</td>\n",
       "      <td>0.349293</td>\n",
       "      <td>225.516432</td>\n",
       "      <td>24.845070</td>\n",
       "    </tr>\n",
       "  </tbody>\n",
       "</table>\n",
       "</div>"
      ],
      "text/plain": [
       "   area  frame  major_axis_length  max_intensity  minor_axis_length  \\\n",
       "0   219      0          19.129969          11259          14.601925   \n",
       "0   223      0          17.285530          14772          16.467085   \n",
       "0   210      0          17.471085          12140          15.320333   \n",
       "0   188      0          15.619607          14026          15.338486   \n",
       "0   213      1          17.236527          15370          15.801502   \n",
       "\n",
       "   orientation           x           y  \n",
       "0    -0.630483  277.538813  152.995434  \n",
       "0    -1.516098  212.206278  326.130045  \n",
       "0     0.482246  123.166667  335.438095  \n",
       "0     1.176994  450.053191  446.723404  \n",
       "0     0.349293  225.516432   24.845070  "
      ]
     },
     "execution_count": 50,
     "metadata": {},
     "output_type": "execute_result"
    }
   ],
   "source": [
    "features.head()"
   ]
  },
  {
   "cell_type": "markdown",
   "metadata": {},
   "source": [
    "### Concatenate feature files"
   ]
  },
  {
   "cell_type": "code",
   "execution_count": 51,
   "metadata": {
    "collapsed": true
   },
   "outputs": [],
   "source": [
    "df = pd.DataFrame()\n",
    "spots = pd.DataFrame()\n",
    "for i, file in enumerate(glob.glob(dataset + '*_spots.h5')):\n",
    "    with pd.HDFStore(file) as store:\n",
    "        spots = store['spots']\n",
    "        store.close()\n",
    "    if i == 0:   \n",
    "        f = spots\n",
    "    else:\n",
    "        spots['frame'] += f['frame'].max()\n",
    "        f = f.append(spots)"
   ]
  },
  {
   "cell_type": "code",
   "execution_count": 52,
   "metadata": {},
   "outputs": [
    {
     "data": {
      "text/html": [
       "<div>\n",
       "<style>\n",
       "    .dataframe thead tr:only-child th {\n",
       "        text-align: right;\n",
       "    }\n",
       "\n",
       "    .dataframe thead th {\n",
       "        text-align: left;\n",
       "    }\n",
       "\n",
       "    .dataframe tbody tr th {\n",
       "        vertical-align: top;\n",
       "    }\n",
       "</style>\n",
       "<table border=\"1\" class=\"dataframe\">\n",
       "  <thead>\n",
       "    <tr style=\"text-align: right;\">\n",
       "      <th></th>\n",
       "    </tr>\n",
       "  </thead>\n",
       "  <tbody>\n",
       "  </tbody>\n",
       "</table>\n",
       "</div>"
      ],
      "text/plain": [
       "Empty DataFrame\n",
       "Columns: []\n",
       "Index: []"
      ]
     },
     "execution_count": 52,
     "metadata": {},
     "output_type": "execute_result"
    }
   ],
   "source": [
    "df.head()"
   ]
  },
  {
   "cell_type": "markdown",
   "metadata": {},
   "source": [
    "## How to read CSV feature files"
   ]
  },
  {
   "cell_type": "code",
   "execution_count": 29,
   "metadata": {},
   "outputs": [],
   "source": [
    "path_to_file = 'E:\\Test_001_features.csv'"
   ]
  },
  {
   "cell_type": "code",
   "execution_count": 30,
   "metadata": {},
   "outputs": [
    {
     "data": {
      "text/plain": [
       "{'binning': 1,\n",
       " 'dimx': 512,\n",
       " 'dimy': 512,\n",
       " 'exposure': 0.03,\n",
       " 'frames': 434,\n",
       " 'median': 2,\n",
       " 'method': 'Connected-Component',\n",
       " 'tab1InvertCheckBox': 0,\n",
       " 'tab1MaxAreaSpinBox': 250,\n",
       " 'tab1MaxFeaturesSpinBox': 100,\n",
       " 'tab1MinAreaSpinBox': 10,\n",
       " 'tab1ThresholdSpinBox': 1000}"
      ]
     },
     "execution_count": 30,
     "metadata": {},
     "output_type": "execute_result"
    }
   ],
   "source": [
    "metadata = pd.read_csv(path_to_file, nrows=1, index_col=0).to_dict('records')[0]\n",
    "metadata"
   ]
  },
  {
   "cell_type": "code",
   "execution_count": 31,
   "metadata": {},
   "outputs": [
    {
     "data": {
      "text/html": [
       "<div>\n",
       "<style>\n",
       "    .dataframe thead tr:only-child th {\n",
       "        text-align: right;\n",
       "    }\n",
       "\n",
       "    .dataframe thead th {\n",
       "        text-align: left;\n",
       "    }\n",
       "\n",
       "    .dataframe tbody tr th {\n",
       "        vertical-align: top;\n",
       "    }\n",
       "</style>\n",
       "<table border=\"1\" class=\"dataframe\">\n",
       "  <thead>\n",
       "    <tr style=\"text-align: right;\">\n",
       "      <th></th>\n",
       "      <th>area</th>\n",
       "      <th>frame</th>\n",
       "      <th>major_axis_length</th>\n",
       "      <th>max_intensity</th>\n",
       "      <th>minor_axis_length</th>\n",
       "      <th>orientation</th>\n",
       "      <th>x</th>\n",
       "      <th>y</th>\n",
       "    </tr>\n",
       "  </thead>\n",
       "  <tbody>\n",
       "    <tr>\n",
       "      <th>0</th>\n",
       "      <td>219</td>\n",
       "      <td>0</td>\n",
       "      <td>19.129969</td>\n",
       "      <td>11259</td>\n",
       "      <td>14.601925</td>\n",
       "      <td>-0.630483</td>\n",
       "      <td>277.538813</td>\n",
       "      <td>152.995434</td>\n",
       "    </tr>\n",
       "    <tr>\n",
       "      <th>0</th>\n",
       "      <td>223</td>\n",
       "      <td>0</td>\n",
       "      <td>17.285530</td>\n",
       "      <td>14772</td>\n",
       "      <td>16.467085</td>\n",
       "      <td>-1.516098</td>\n",
       "      <td>212.206278</td>\n",
       "      <td>326.130045</td>\n",
       "    </tr>\n",
       "    <tr>\n",
       "      <th>0</th>\n",
       "      <td>210</td>\n",
       "      <td>0</td>\n",
       "      <td>17.471085</td>\n",
       "      <td>12140</td>\n",
       "      <td>15.320333</td>\n",
       "      <td>0.482246</td>\n",
       "      <td>123.166667</td>\n",
       "      <td>335.438095</td>\n",
       "    </tr>\n",
       "    <tr>\n",
       "      <th>0</th>\n",
       "      <td>188</td>\n",
       "      <td>0</td>\n",
       "      <td>15.619607</td>\n",
       "      <td>14026</td>\n",
       "      <td>15.338486</td>\n",
       "      <td>1.176994</td>\n",
       "      <td>450.053191</td>\n",
       "      <td>446.723404</td>\n",
       "    </tr>\n",
       "    <tr>\n",
       "      <th>0</th>\n",
       "      <td>213</td>\n",
       "      <td>1</td>\n",
       "      <td>17.236527</td>\n",
       "      <td>15370</td>\n",
       "      <td>15.801502</td>\n",
       "      <td>0.349293</td>\n",
       "      <td>225.516432</td>\n",
       "      <td>24.845070</td>\n",
       "    </tr>\n",
       "  </tbody>\n",
       "</table>\n",
       "</div>"
      ],
      "text/plain": [
       "   area  frame  major_axis_length  max_intensity  minor_axis_length  \\\n",
       "0   219      0          19.129969          11259          14.601925   \n",
       "0   223      0          17.285530          14772          16.467085   \n",
       "0   210      0          17.471085          12140          15.320333   \n",
       "0   188      0          15.619607          14026          15.338486   \n",
       "0   213      1          17.236527          15370          15.801502   \n",
       "\n",
       "   orientation           x           y  \n",
       "0    -0.630483  277.538813  152.995434  \n",
       "0    -1.516098  212.206278  326.130045  \n",
       "0     0.482246  123.166667  335.438095  \n",
       "0     1.176994  450.053191  446.723404  \n",
       "0     0.349293  225.516432   24.845070  "
      ]
     },
     "execution_count": 31,
     "metadata": {},
     "output_type": "execute_result"
    }
   ],
   "source": [
    "features = pd.read_csv(path_to_file, skiprows=2, index_col=0)\n",
    "features.head()"
   ]
  },
  {
   "cell_type": "code",
   "execution_count": null,
   "metadata": {},
   "outputs": [],
   "source": []
  }
 ],
 "metadata": {
  "anaconda-cloud": {},
  "kernelspec": {
   "display_name": "Python 3",
   "language": "python",
   "name": "python3"
  },
  "language_info": {
   "codemirror_mode": {
    "name": "ipython",
    "version": 3
   },
   "file_extension": ".py",
   "mimetype": "text/x-python",
   "name": "python",
   "nbconvert_exporter": "python",
   "pygments_lexer": "ipython3",
   "version": "3.6.3"
  },
  "varInspector": {
   "cols": {
    "lenName": 16,
    "lenType": 16,
    "lenVar": 40
   },
   "kernels_config": {
    "python": {
     "delete_cmd_postfix": "",
     "delete_cmd_prefix": "del ",
     "library": "var_list.py",
     "varRefreshCmd": "print(var_dic_list())"
    },
    "r": {
     "delete_cmd_postfix": ") ",
     "delete_cmd_prefix": "rm(",
     "library": "var_list.r",
     "varRefreshCmd": "cat(var_dic_list()) "
    }
   },
   "types_to_exclude": [
    "module",
    "function",
    "builtin_function_or_method",
    "instance",
    "_Feature"
   ],
   "window_display": false
  }
 },
 "nbformat": 4,
 "nbformat_minor": 2
}
