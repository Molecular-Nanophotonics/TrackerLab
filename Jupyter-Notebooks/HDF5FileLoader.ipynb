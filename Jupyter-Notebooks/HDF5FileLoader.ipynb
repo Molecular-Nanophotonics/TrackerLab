{
 "cells": [
  {
   "cell_type": "markdown",
   "metadata": {},
   "source": [
    "# How to load HDF5 files from TrackerLab"
   ]
  },
  {
   "cell_type": "markdown",
   "metadata": {
    "slideshow": {
     "slide_type": "notes"
    }
   },
   "source": [
    "..."
   ]
  },
  {
   "cell_type": "markdown",
   "metadata": {},
   "source": [
    "## Required packages"
   ]
  },
  {
   "cell_type": "code",
   "execution_count": 3,
   "metadata": {
    "collapsed": true
   },
   "outputs": [],
   "source": [
    "import numpy as np\n",
    "pi = np.pi\n",
    "import matplotlib.pyplot as plt\n",
    "%matplotlib inline\n",
    "\n",
    "import pandas as pd"
   ]
  },
  {
   "cell_type": "markdown",
   "metadata": {},
   "source": [
    "## Load tracking files and metadata \n",
    "\n",
    "Features where detected using the TrackerLab: https://github.com/MolecularNanophotonics/TrackerLab <br>\n",
    "The tracking parameters are stored in a HDF5 files."
   ]
  },
  {
   "cell_type": "code",
   "execution_count": null,
   "metadata": {},
   "outputs": [],
   "source": [
    "dataset = '...'"
   ]
  },
  {
   "cell_type": "code",
   "execution_count": 6,
   "metadata": {},
   "outputs": [
    {
     "name": "stdout",
     "output_type": "stream",
     "text": [
      "Set2_001_spots.h5\n",
      "Set2_002_spots.h5\n",
      "Set2_003_spots.h5\n",
      "Set2_004_spots.h5\n",
      "Set2_005_spots.h5\n",
      "Set2_006_spots.h5\n",
      "Set2_007_spots.h5\n",
      "Set2_008_spots.h5\n",
      "Set2_009_spots.h5\n",
      "Set2_010_spots.h5\n",
      "Set2_011_spots.h5\n",
      "Set2_012_spots.h5\n"
     ]
    }
   ],
   "source": [
    "for file in glob.glob(dataset + '*_spots.h5'):\n",
    "    print(file)"
   ]
  },
  {
   "cell_type": "code",
   "execution_count": 7,
   "metadata": {
    "collapsed": true
   },
   "outputs": [],
   "source": [
    "#with pd.HDFStore(dataset + '_001_spots.h5') as store:\n",
    "#    info = pd.HDFStore(dataset + '_001_spots.h5').get_storer('spots').attrs\n",
    "#    store.close()\n",
    "#info"
   ]
  },
  {
   "cell_type": "code",
   "execution_count": 8,
   "metadata": {},
   "outputs": [
    {
     "data": {
      "text/plain": [
       "{'binning': 2,\n",
       " 'dimx': 126,\n",
       " 'dimy': 126,\n",
       " 'exposure': 0.03,\n",
       " 'frames': 1000,\n",
       " 'pp_mask_r': 39,\n",
       " 'pp_mask_x': 62,\n",
       " 'pp_mask_y': 62,\n",
       " 'pp_median': 2,\n",
       " 'tt_area_max': 250,\n",
       " 'tt_area_min': 10,\n",
       " 'tt_method': 'Measure Labels',\n",
       " 'tt_threshold': 280}"
      ]
     },
     "execution_count": 8,
     "metadata": {},
     "output_type": "execute_result"
    }
   ],
   "source": [
    "with pd.HDFStore(dataset + '_001_spots.h5') as store:\n",
    "    metadata = store['metadata'].to_dict('records')[0]\n",
    "    store.close()\n",
    "    \n",
    "metadata"
   ]
  },
  {
   "cell_type": "code",
   "execution_count": 75,
   "metadata": {
    "collapsed": true
   },
   "outputs": [],
   "source": [
    "dimx = metadata['dimx']\n",
    "dimy = metadata['dimy']\n",
    "binning = metadata['binning']\n",
    "exposure = metadata['exposure']\n",
    "xm = metadata['pp_mask_x']\n",
    "ym = metadata['pp_mask_y']\n",
    "rm = metadata['pp_mask_r']"
   ]
  },
  {
   "cell_type": "code",
   "execution_count": 10,
   "metadata": {
    "collapsed": true
   },
   "outputs": [],
   "source": [
    "scale = 0.0577*binning"
   ]
  },
  {
   "cell_type": "markdown",
   "metadata": {},
   "source": [
    "## Concatenate feature files"
   ]
  },
  {
   "cell_type": "code",
   "execution_count": 15,
   "metadata": {
    "collapsed": true
   },
   "outputs": [],
   "source": [
    "df = pd.DataFrame()\n",
    "spots = pd.DataFrame()\n",
    "for i, file in enumerate(glob.glob(dataset + '*_spots.h5')):\n",
    "    with pd.HDFStore(file) as store:\n",
    "        spots = store['spots']\n",
    "        store.close()\n",
    "    if i == 0:   \n",
    "        f = spots\n",
    "    else:\n",
    "        spots['frame'] += f['frame'].max()\n",
    "        f = f.append(spots)"
   ]
  },
  {
   "cell_type": "code",
   "execution_count": 16,
   "metadata": {},
   "outputs": [],
   "source": [
    "df.head()"
   ]
  }
 ],
 "metadata": {
  "anaconda-cloud": {},
  "kernelspec": {
   "display_name": "Python 3",
   "language": "python",
   "name": "python3"
  },
  "language_info": {
   "codemirror_mode": {
    "name": "ipython",
    "version": 3
   },
   "file_extension": ".py",
   "mimetype": "text/x-python",
   "name": "python",
   "nbconvert_exporter": "python",
   "pygments_lexer": "ipython3",
   "version": "3.6.3"
  },
  "varInspector": {
   "cols": {
    "lenName": 16,
    "lenType": 16,
    "lenVar": 40
   },
   "kernels_config": {
    "python": {
     "delete_cmd_postfix": "",
     "delete_cmd_prefix": "del ",
     "library": "var_list.py",
     "varRefreshCmd": "print(var_dic_list())"
    },
    "r": {
     "delete_cmd_postfix": ") ",
     "delete_cmd_prefix": "rm(",
     "library": "var_list.r",
     "varRefreshCmd": "cat(var_dic_list()) "
    }
   },
   "types_to_exclude": [
    "module",
    "function",
    "builtin_function_or_method",
    "instance",
    "_Feature"
   ],
   "window_display": false
  }
 },
 "nbformat": 4,
 "nbformat_minor": 2
}
