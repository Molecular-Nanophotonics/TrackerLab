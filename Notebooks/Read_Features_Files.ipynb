{
 "cells": [
  {
   "cell_type": "markdown",
   "metadata": {},
   "source": [
    "# How to read CSV and HDF5 features files from TrackerLab"
   ]
  },
  {
   "cell_type": "markdown",
   "metadata": {
    "slideshow": {
     "slide_type": "notes"
    }
   },
   "source": [
    "This short Notebook demonstates how to read the CSV and HDF5 feature files exported from the TrackerLab. We recommend to work with the CSV file format."
   ]
  },
  {
   "cell_type": "markdown",
   "metadata": {},
   "source": [
    "## Required packages"
   ]
  },
  {
   "cell_type": "code",
   "execution_count": 8,
   "metadata": {},
   "outputs": [],
   "source": [
    "import numpy as np\n",
    "pi = np.pi\n",
    "import matplotlib.pyplot as plt\n",
    "%matplotlib inline\n",
    "\n",
    "import pandas as pd"
   ]
  },
  {
   "cell_type": "markdown",
   "metadata": {},
   "source": [
    "## How to read CSV feature files"
   ]
  },
  {
   "cell_type": "code",
   "execution_count": 18,
   "metadata": {},
   "outputs": [],
   "source": [
    "file = r'E:\\Sample Data\\Set1_001_features.csv'"
   ]
  },
  {
   "cell_type": "code",
   "execution_count": 19,
   "metadata": {},
   "outputs": [],
   "source": [
    "def loadCSVFeatures(file):\n",
    "    comments = ''\n",
    "    with open(file) as f:\n",
    "        row_count = 0\n",
    "        row = f.readline()\n",
    "        while row.startswith('#'):\n",
    "            comments += row[1:] # remove leading # and append to comments\n",
    "            row = f.readline()\n",
    "            row_count += 1\n",
    "    metadata = pd.read_csv(file, skiprows=row_count, nrows=1, index_col=0).to_dict('records')[0]\n",
    "    features = pd.read_csv(file, skiprows=row_count + 2, index_col=0)\n",
    "    return features, metadata, comments"
   ]
  },
  {
   "cell_type": "code",
   "execution_count": 20,
   "metadata": {},
   "outputs": [],
   "source": [
    "features, metadata, comments = loadCSVFeatures(file)"
   ]
  },
  {
   "cell_type": "code",
   "execution_count": 21,
   "metadata": {},
   "outputs": [
    {
     "name": "stdout",
     "output_type": "stream",
     "text": [
      "##################\n",
      "SAMPLE PREPARATION\n",
      "##################\n",
      "\n",
      "     \\ ___ /\n",
      "----------------- Glass Slide (Rinsed with Aceton, Ethanol, Milli-Q H2O, Immersed in 1% Pluronic F-127)\n",
      "\n",
      "      0.32 µl     250 nm Au NPs in DI water\n",
      "\n",
      "----------------- Glass Slide (Rinsed with Aceton, Ethanol, Milli-Q H2O, Immersed in 1% Pluronic F-127)\n",
      "       ___\n",
      "      /   \\ \n",
      "\n",
      "Area: 18 x 18 mm (Sealed with PDMS)\n",
      "\n",
      "\n",
      "##################\n",
      "EXPERIMENTAL SETUP\n",
      "##################\n",
      "\n",
      "Darkfield Illumination\n",
      "Objective: Olympus UPlanFL N 100x/1.30 Oil Iris (f = 1.8 mm) \n",
      "Camera: Andor iXon3 DU-897E-CSO-#BV\n",
      "\n",
      "Scale: 0.0577 µm/px (f = 500 mm Tube Lens) \n",
      "\n",
      "\n",
      "##################\n",
      "NOTES\n",
      "##################\n",
      "\n",
      "Set1: Free Diffusion\n",
      "\n"
     ]
    }
   ],
   "source": [
    "print(comments)"
   ]
  },
  {
   "cell_type": "code",
   "execution_count": 22,
   "metadata": {},
   "outputs": [
    {
     "data": {
      "text/plain": [
       "{'dimx': 512,\n",
       " 'dimy': 512,\n",
       " 'frames': 1000,\n",
       " 'binning': 1,\n",
       " 'exposure': 0.03,\n",
       " 'median': 2,\n",
       " 'method': 'Connected-Component',\n",
       " 'tab1ThresholdSpinBox': 500,\n",
       " 'tab1MinAreaSpinBox': 100,\n",
       " 'tab1MaxAreaSpinBox': 2500,\n",
       " 'tab1InvertCheckBox': 0,\n",
       " 'tab1MaxFeaturesSpinBox': 1000}"
      ]
     },
     "execution_count": 22,
     "metadata": {},
     "output_type": "execute_result"
    }
   ],
   "source": [
    "metadata"
   ]
  },
  {
   "cell_type": "code",
   "execution_count": 23,
   "metadata": {},
   "outputs": [
    {
     "data": {
      "text/html": [
       "<div>\n",
       "<style scoped>\n",
       "    .dataframe tbody tr th:only-of-type {\n",
       "        vertical-align: middle;\n",
       "    }\n",
       "\n",
       "    .dataframe tbody tr th {\n",
       "        vertical-align: top;\n",
       "    }\n",
       "\n",
       "    .dataframe thead th {\n",
       "        text-align: right;\n",
       "    }\n",
       "</style>\n",
       "<table border=\"1\" class=\"dataframe\">\n",
       "  <thead>\n",
       "    <tr style=\"text-align: right;\">\n",
       "      <th></th>\n",
       "      <th>area</th>\n",
       "      <th>eccentricity</th>\n",
       "      <th>equivalent_diameter</th>\n",
       "      <th>filled_area</th>\n",
       "      <th>frame</th>\n",
       "      <th>major_axis_length</th>\n",
       "      <th>max_intensity</th>\n",
       "      <th>mean_intensity</th>\n",
       "      <th>minor_axis_length</th>\n",
       "      <th>orientation</th>\n",
       "      <th>x</th>\n",
       "      <th>x_weighted</th>\n",
       "      <th>y</th>\n",
       "      <th>y_weighted</th>\n",
       "    </tr>\n",
       "  </thead>\n",
       "  <tbody>\n",
       "    <tr>\n",
       "      <th>0</th>\n",
       "      <td>169</td>\n",
       "      <td>0.704302</td>\n",
       "      <td>14.668929</td>\n",
       "      <td>169</td>\n",
       "      <td>1</td>\n",
       "      <td>18.025724</td>\n",
       "      <td>5315</td>\n",
       "      <td>2188.786982</td>\n",
       "      <td>12.796473</td>\n",
       "      <td>1.559531</td>\n",
       "      <td>4.550296</td>\n",
       "      <td>3.469694</td>\n",
       "      <td>34.550296</td>\n",
       "      <td>34.436409</td>\n",
       "    </tr>\n",
       "    <tr>\n",
       "      <th>1</th>\n",
       "      <td>366</td>\n",
       "      <td>0.777491</td>\n",
       "      <td>21.587165</td>\n",
       "      <td>366</td>\n",
       "      <td>1</td>\n",
       "      <td>27.250179</td>\n",
       "      <td>7150</td>\n",
       "      <td>2597.631148</td>\n",
       "      <td>17.137488</td>\n",
       "      <td>1.541013</td>\n",
       "      <td>444.393443</td>\n",
       "      <td>444.685818</td>\n",
       "      <td>119.316940</td>\n",
       "      <td>119.114838</td>\n",
       "    </tr>\n",
       "    <tr>\n",
       "      <th>2</th>\n",
       "      <td>283</td>\n",
       "      <td>0.342830</td>\n",
       "      <td>18.982276</td>\n",
       "      <td>283</td>\n",
       "      <td>1</td>\n",
       "      <td>19.705823</td>\n",
       "      <td>12147</td>\n",
       "      <td>3105.155477</td>\n",
       "      <td>18.511599</td>\n",
       "      <td>0.419780</td>\n",
       "      <td>138.194346</td>\n",
       "      <td>138.751358</td>\n",
       "      <td>178.098940</td>\n",
       "      <td>178.283313</td>\n",
       "    </tr>\n",
       "    <tr>\n",
       "      <th>3</th>\n",
       "      <td>337</td>\n",
       "      <td>0.661792</td>\n",
       "      <td>20.714288</td>\n",
       "      <td>337</td>\n",
       "      <td>1</td>\n",
       "      <td>24.028663</td>\n",
       "      <td>9832</td>\n",
       "      <td>2915.011869</td>\n",
       "      <td>18.013982</td>\n",
       "      <td>1.312992</td>\n",
       "      <td>503.195846</td>\n",
       "      <td>504.044739</td>\n",
       "      <td>220.667656</td>\n",
       "      <td>220.500528</td>\n",
       "    </tr>\n",
       "    <tr>\n",
       "      <th>4</th>\n",
       "      <td>248</td>\n",
       "      <td>0.462921</td>\n",
       "      <td>17.769733</td>\n",
       "      <td>248</td>\n",
       "      <td>1</td>\n",
       "      <td>18.899727</td>\n",
       "      <td>8521</td>\n",
       "      <td>2578.536290</td>\n",
       "      <td>16.752711</td>\n",
       "      <td>-0.566174</td>\n",
       "      <td>283.556452</td>\n",
       "      <td>283.865266</td>\n",
       "      <td>241.455645</td>\n",
       "      <td>241.487203</td>\n",
       "    </tr>\n",
       "  </tbody>\n",
       "</table>\n",
       "</div>"
      ],
      "text/plain": [
       "   area  eccentricity  equivalent_diameter  filled_area  frame  \\\n",
       "0   169      0.704302            14.668929          169      1   \n",
       "1   366      0.777491            21.587165          366      1   \n",
       "2   283      0.342830            18.982276          283      1   \n",
       "3   337      0.661792            20.714288          337      1   \n",
       "4   248      0.462921            17.769733          248      1   \n",
       "\n",
       "   major_axis_length  max_intensity  mean_intensity  minor_axis_length  \\\n",
       "0          18.025724           5315     2188.786982          12.796473   \n",
       "1          27.250179           7150     2597.631148          17.137488   \n",
       "2          19.705823          12147     3105.155477          18.511599   \n",
       "3          24.028663           9832     2915.011869          18.013982   \n",
       "4          18.899727           8521     2578.536290          16.752711   \n",
       "\n",
       "   orientation           x  x_weighted           y  y_weighted  \n",
       "0     1.559531    4.550296    3.469694   34.550296   34.436409  \n",
       "1     1.541013  444.393443  444.685818  119.316940  119.114838  \n",
       "2     0.419780  138.194346  138.751358  178.098940  178.283313  \n",
       "3     1.312992  503.195846  504.044739  220.667656  220.500528  \n",
       "4    -0.566174  283.556452  283.865266  241.455645  241.487203  "
      ]
     },
     "execution_count": 23,
     "metadata": {},
     "output_type": "execute_result"
    }
   ],
   "source": [
    "features.head()"
   ]
  },
  {
   "cell_type": "markdown",
   "metadata": {},
   "source": [
    "## How to read HDF5 feature files"
   ]
  },
  {
   "cell_type": "code",
   "execution_count": 49,
   "metadata": {},
   "outputs": [],
   "source": [
    "file = 'E:\\Sample Data\\Set1_001_features.h5'"
   ]
  },
  {
   "cell_type": "code",
   "execution_count": 50,
   "metadata": {},
   "outputs": [
    {
     "data": {
      "text/plain": [
       "{'dimx': 512,\n",
       " 'dimy': 512,\n",
       " 'frames': 1000,\n",
       " 'binning': 1,\n",
       " 'exposure': 0.03,\n",
       " 'median': 2,\n",
       " 'method': 'Connected-Component',\n",
       " 'tab1ThresholdSpinBox': 1000,\n",
       " 'tab1MinAreaSpinBox': 10,\n",
       " 'tab1MaxAreaSpinBox': 250,\n",
       " 'tab1InvertCheckBox': 0,\n",
       " 'tab1MaxFeaturesSpinBox': 100}"
      ]
     },
     "execution_count": 50,
     "metadata": {},
     "output_type": "execute_result"
    }
   ],
   "source": [
    "# Read the metadata\n",
    "with pd.HDFStore(file) as store:\n",
    "    metadata = store['metadata'].to_dict('records')[0]\n",
    "    store.close() \n",
    "metadata"
   ]
  },
  {
   "cell_type": "code",
   "execution_count": 51,
   "metadata": {},
   "outputs": [],
   "source": [
    "dimx = metadata['dimx']\n",
    "dimy = metadata['dimy']\n",
    "binning = metadata['binning']\n",
    "exposure = metadata['exposure']\n",
    "# ..."
   ]
  },
  {
   "cell_type": "code",
   "execution_count": 52,
   "metadata": {},
   "outputs": [],
   "source": [
    "# Read the features DataFrame\n",
    "with pd.HDFStore(file) as store:\n",
    "        features = store['features']\n",
    "        store.close()"
   ]
  },
  {
   "cell_type": "code",
   "execution_count": 53,
   "metadata": {},
   "outputs": [
    {
     "data": {
      "text/html": [
       "<div>\n",
       "<style scoped>\n",
       "    .dataframe tbody tr th:only-of-type {\n",
       "        vertical-align: middle;\n",
       "    }\n",
       "\n",
       "    .dataframe tbody tr th {\n",
       "        vertical-align: top;\n",
       "    }\n",
       "\n",
       "    .dataframe thead th {\n",
       "        text-align: right;\n",
       "    }\n",
       "</style>\n",
       "<table border=\"1\" class=\"dataframe\">\n",
       "  <thead>\n",
       "    <tr style=\"text-align: right;\">\n",
       "      <th></th>\n",
       "      <th>area</th>\n",
       "      <th>frame</th>\n",
       "      <th>major_axis_length</th>\n",
       "      <th>max_intensity</th>\n",
       "      <th>minor_axis_length</th>\n",
       "      <th>orientation</th>\n",
       "      <th>x</th>\n",
       "      <th>y</th>\n",
       "    </tr>\n",
       "  </thead>\n",
       "  <tbody>\n",
       "    <tr>\n",
       "      <th>0</th>\n",
       "      <td>118</td>\n",
       "      <td>1</td>\n",
       "      <td>14.640238</td>\n",
       "      <td>5315</td>\n",
       "      <td>10.802322</td>\n",
       "      <td>1.529278</td>\n",
       "      <td>3.864407</td>\n",
       "      <td>34.508475</td>\n",
       "    </tr>\n",
       "    <tr>\n",
       "      <th>0</th>\n",
       "      <td>170</td>\n",
       "      <td>1</td>\n",
       "      <td>14.923881</td>\n",
       "      <td>12147</td>\n",
       "      <td>14.536187</td>\n",
       "      <td>0.829469</td>\n",
       "      <td>138.876471</td>\n",
       "      <td>178.264706</td>\n",
       "    </tr>\n",
       "    <tr>\n",
       "      <th>0</th>\n",
       "      <td>229</td>\n",
       "      <td>1</td>\n",
       "      <td>19.962029</td>\n",
       "      <td>9832</td>\n",
       "      <td>14.637099</td>\n",
       "      <td>1.036854</td>\n",
       "      <td>503.685590</td>\n",
       "      <td>220.816594</td>\n",
       "    </tr>\n",
       "    <tr>\n",
       "      <th>0</th>\n",
       "      <td>161</td>\n",
       "      <td>1</td>\n",
       "      <td>15.263184</td>\n",
       "      <td>8521</td>\n",
       "      <td>13.455119</td>\n",
       "      <td>-0.695266</td>\n",
       "      <td>283.838509</td>\n",
       "      <td>241.385093</td>\n",
       "    </tr>\n",
       "    <tr>\n",
       "      <th>0</th>\n",
       "      <td>197</td>\n",
       "      <td>1</td>\n",
       "      <td>18.715573</td>\n",
       "      <td>7722</td>\n",
       "      <td>13.442326</td>\n",
       "      <td>0.357629</td>\n",
       "      <td>455.543147</td>\n",
       "      <td>380.192893</td>\n",
       "    </tr>\n",
       "  </tbody>\n",
       "</table>\n",
       "</div>"
      ],
      "text/plain": [
       "   area  frame  major_axis_length  max_intensity  minor_axis_length  \\\n",
       "0   118      1          14.640238           5315          10.802322   \n",
       "0   170      1          14.923881          12147          14.536187   \n",
       "0   229      1          19.962029           9832          14.637099   \n",
       "0   161      1          15.263184           8521          13.455119   \n",
       "0   197      1          18.715573           7722          13.442326   \n",
       "\n",
       "   orientation           x           y  \n",
       "0     1.529278    3.864407   34.508475  \n",
       "0     0.829469  138.876471  178.264706  \n",
       "0     1.036854  503.685590  220.816594  \n",
       "0    -0.695266  283.838509  241.385093  \n",
       "0     0.357629  455.543147  380.192893  "
      ]
     },
     "execution_count": 53,
     "metadata": {},
     "output_type": "execute_result"
    }
   ],
   "source": [
    "features.head()"
   ]
  },
  {
   "cell_type": "code",
   "execution_count": 13,
   "metadata": {},
   "outputs": [
    {
     "data": {
      "text/plain": [
       "0    52.639098\n",
       "0    52.872180\n",
       "0    52.689394\n",
       "0    50.725000\n",
       "0    47.351852\n",
       "0    46.110000\n",
       "0    47.875000\n",
       "0    48.979167\n",
       "0    46.832061\n",
       "0    44.164557\n",
       "0    41.981481\n",
       "0    43.805970\n",
       "0    48.067797\n",
       "0    46.817308\n",
       "0    45.598361\n",
       "0    48.647887\n",
       "0    48.785714\n",
       "0    46.030303\n",
       "0    45.450000\n",
       "0    44.108911\n",
       "0    44.088000\n",
       "0    43.741071\n",
       "0    42.365385\n",
       "0    40.342105\n",
       "0    40.250000\n",
       "0    43.241379\n",
       "0    42.583333\n",
       "0    42.065217\n",
       "0    42.476923\n",
       "0    43.277311\n",
       "       ...    \n",
       "0    46.669811\n",
       "0    43.010526\n",
       "0    43.724771\n",
       "0    42.968504\n",
       "0    43.185185\n",
       "0    41.662921\n",
       "0    41.031579\n",
       "0    42.397727\n",
       "0    41.963415\n",
       "0    40.478261\n",
       "0    37.112676\n",
       "0    39.307692\n",
       "0    38.263636\n",
       "0    36.390909\n",
       "0    36.840708\n",
       "0    36.425197\n",
       "0    34.138298\n",
       "0    34.958904\n",
       "0    35.977273\n",
       "0    34.943820\n",
       "0    35.029703\n",
       "0    38.808989\n",
       "0    41.259259\n",
       "0    42.883495\n",
       "0    42.315789\n",
       "0    42.084211\n",
       "0    41.364486\n",
       "0    42.029703\n",
       "0    41.432432\n",
       "0    43.216981\n",
       "Name: x, Length: 880, dtype: float64"
      ]
     },
     "execution_count": 13,
     "metadata": {},
     "output_type": "execute_result"
    }
   ],
   "source": [
    "features.x"
   ]
  },
  {
   "cell_type": "code",
   "execution_count": null,
   "metadata": {},
   "outputs": [],
   "source": []
  }
 ],
 "metadata": {
  "anaconda-cloud": {},
  "kernelspec": {
   "display_name": "Python 3",
   "language": "python",
   "name": "python3"
  },
  "language_info": {
   "codemirror_mode": {
    "name": "ipython",
    "version": 3
   },
   "file_extension": ".py",
   "mimetype": "text/x-python",
   "name": "python",
   "nbconvert_exporter": "python",
   "pygments_lexer": "ipython3",
   "version": "3.7.9"
  },
  "varInspector": {
   "cols": {
    "lenName": 16,
    "lenType": 16,
    "lenVar": 40
   },
   "kernels_config": {
    "python": {
     "delete_cmd_postfix": "",
     "delete_cmd_prefix": "del ",
     "library": "var_list.py",
     "varRefreshCmd": "print(var_dic_list())"
    },
    "r": {
     "delete_cmd_postfix": ") ",
     "delete_cmd_prefix": "rm(",
     "library": "var_list.r",
     "varRefreshCmd": "cat(var_dic_list()) "
    }
   },
   "types_to_exclude": [
    "module",
    "function",
    "builtin_function_or_method",
    "instance",
    "_Feature"
   ],
   "window_display": false
  }
 },
 "nbformat": 4,
 "nbformat_minor": 4
}
